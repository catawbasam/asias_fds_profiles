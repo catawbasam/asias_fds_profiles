{
 "metadata": {
  "name": ""
 },
 "nbformat": 3,
 "nbformat_minor": 0,
 "worksheets": [
  {
   "cells": [
    {
     "cell_type": "markdown",
     "metadata": {},
     "source": [
      "#<a id=\"Home\"></a>Example IPython Notebook profile</a>\n",
      "<b style=\"color:red;\">WARNING: Notebooks containing flight data may be published to github ONLY when using the FDS specimen flight!</b>"
     ]
    },
    {
     "cell_type": "markdown",
     "metadata": {},
     "source": [
      "**Contents:**   <a href=\"#Config\">Select Flights</a> \n",
      "| <a href=\"#Browse\">Browse Flight</a> \n",
      "| <a href=\"#FDSNodes\">Browse FDS Nodes</a> \n",
      "| <a href=\"#Attributes\">Attrib</a> \n",
      "| <a href=\"#KTI\">KTI</a> \n",
      "| <a href=\"#Phase\">Phase</a> \n",
      "| <a href=\"#KPV\">KPV</a> \n",
      "| <a href=\"#Parameter\">Param</a> \n",
      "| <a href=\"#Graph\">Node Graph</a> \n",
      "| <a href=\"#Output\">Profile Test Output</a>"
     ]
    },
    {
     "cell_type": "code",
     "collapsed": false,
     "input": [
      "nb.timestamp()"
     ],
     "language": "python",
     "metadata": {},
     "outputs": [
      {
       "metadata": {},
       "output_type": "pyout",
       "prompt_number": 1,
       "text": [
        "'2013/08/19 15:02'"
       ]
      }
     ],
     "prompt_number": 1
    },
    {
     "cell_type": "markdown",
     "metadata": {},
     "source": [
      "First cut at a standardized profile.\n",
      "\n",
      "* Has a standard set of sections with table of contents.\n",
      "\n",
      "* Includes utilities for browsing data and searching for names. Use nb. tab completion to access them.\n",
      "\n",
      "* Defines a simple set of measures that run against FDS' FlightDataAnalyzer base data +\n",
      "an attempt at defining workflows. \n",
      "\n",
      "* Uses configuration profile 'asias_fds' (run '!ipython locate' to locate it) to define standard module imports and tab-completion lists.\n",
      "\n",
      "**Instructions**\n",
      "\n",
      "1. To run as configured, choose Cell|Run All from the top menu. (overwrites your previous runs of this profile)\n",
      "2. To run existing measures on a different set of flights, update TEST_FLIGHT_SET below.  You can either choose a different predefined set using tab-completion on fs. or define a new function and assign that to TEST_FLIGHT_SET.\n",
      "3. Change KPV, KTI, Phase, Parameter definitions defined below or add new ones.\n",
      "4. Browse hdf5 series, pre-defined measurement Nodes, and test output.  See examples below.\n",
      "\n",
      "(To view the definition of a predefined function, type functionname??, e.g. 'fs.test10??')"
     ]
    },
    {
     "cell_type": "markdown",
     "metadata": {},
     "source": [
      "#### List of Notebook utilites:  "
     ]
    },
    {
     "cell_type": "code",
     "collapsed": false,
     "input": [
      "#TODO: render as table with short descriptions\n",
      "nb.module_functions(nb) #list of notebook functions available in nb.<tab>"
     ],
     "language": "python",
     "metadata": {},
     "outputs": [
      {
       "metadata": {},
       "output_type": "pyout",
       "prompt_number": 2,
       "text": [
        "['derive_attr',\n",
        " 'derive_many',\n",
        " 'derive_one',\n",
        " 'derived_table',\n",
        " 'get_deps_series',\n",
        " 'get_profile_nodemanager',\n",
        " 'get_profile_nodes',\n",
        " 'hdf_plot',\n",
        " 'hdf_search',\n",
        " 'initialize_logger',\n",
        " 'module_functions',\n",
        " 'node_search',\n",
        " 'node_type',\n",
        " 'show_graph',\n",
        " 'single_graph',\n",
        " 'timestamp',\n",
        " 'ts_index']"
       ]
      }
     ],
     "prompt_number": 2
    },
    {
     "cell_type": "code",
     "collapsed": false,
     "input": [
      "%matplotlib inline                              \n",
      "pylab.rcParams['figure.figsize'] = (10.0, 4.0)  # size of plots (width, height)\n",
      "logger = nb.initialize_logger('WARNING', filename='log_messages.txt') #ERROR',WARNING,INFO,DEBUG"
     ],
     "language": "python",
     "metadata": {},
     "outputs": [],
     "prompt_number": 3
    },
    {
     "cell_type": "markdown",
     "metadata": {},
     "source": [
      "## Select test flights <a id=\"Config\"></a> (<a href=\"#Home\">Home</a>)"
     ]
    },
    {
     "cell_type": "markdown",
     "metadata": {},
     "source": [
      "You can use a pre-defined flight set, or create your own.  'flight_sets.*function*??', e.g. flight_sets.test10?? will list the source code for the flights function, providing examples of how to set up your own sets."
     ]
    },
    {
     "cell_type": "code",
     "collapsed": false,
     "input": [
      "reload(flight_sets)\n",
      "# pre-defined options:\n",
      "nb.module_functions(flight_sets)  "
     ],
     "language": "python",
     "metadata": {},
     "outputs": [
      {
       "metadata": {},
       "output_type": "pyout",
       "prompt_number": 26,
       "text": [
        "['fll_local',\n",
        " 'specimen_flight',\n",
        " 'test10',\n",
        " 'test100',\n",
        " 'test10_shared',\n",
        " 'test_sql_jfk',\n",
        " 'test_sql_jfk_local',\n",
        " 'tiny_test']"
       ]
      }
     ],
     "prompt_number": 26
    },
    {
     "cell_type": "markdown",
     "metadata": {},
     "source": [
      "** >>>> Pick a pre-defined function to specify test flights, or define your own    >>>>>>** "
     ]
    },
    {
     "cell_type": "code",
     "collapsed": false,
     "input": [
      "TEST_FLIGHT_SET = flight_sets.specimen_flight   #Use tab completion 'fs.<tab>' to pick aflight set."
     ],
     "language": "python",
     "metadata": {},
     "outputs": [],
     "prompt_number": 27
    },
    {
     "cell_type": "markdown",
     "metadata": {},
     "source": [
      "**<<<<<<<<<<<<<<<<<<<<<<<<<<<<<<<<<<<<<<<<<<<<<<<<<<<<<<<<<<<<<<<<<**"
     ]
    },
    {
     "cell_type": "code",
     "collapsed": false,
     "input": [
      "flight_set = apply(TEST_FLIGHT_SET)           #calls the function, returns a list of filepaths\n",
      "len(flight_set) # number of flights in the set"
     ],
     "language": "python",
     "metadata": {},
     "outputs": [
      {
       "output_type": "stream",
       "stream": "stdout",
       "text": [
        "c:/asias_fds/base_data/specimen_flight/\n",
        "['c:/asias_fds/base_data/specimen_flight\\\\Specimen_Flight.hdf5']\n"
       ]
      },
      {
       "metadata": {},
       "output_type": "pyout",
       "prompt_number": 32,
       "text": [
        "1"
       ]
      }
     ],
     "prompt_number": 32
    },
    {
     "cell_type": "code",
     "collapsed": false,
     "input": [
      "[flt['filepath'] for flt in flight_set] # list the files in this test set"
     ],
     "language": "python",
     "metadata": {},
     "outputs": [
      {
       "metadata": {},
       "output_type": "pyout",
       "prompt_number": 39,
       "text": [
        "['c:/asias_fds/base_data/specimen_flight\\\\Specimen_Flight.hdf5']"
       ]
      }
     ],
     "prompt_number": 39
    },
    {
     "cell_type": "code",
     "collapsed": false,
     "input": [
      "test_flight=flight_set[0]  \n",
      "test_flight"
     ],
     "language": "python",
     "metadata": {},
     "outputs": [
      {
       "metadata": {},
       "output_type": "pyout",
       "prompt_number": 34,
       "text": [
        "{'aircraft_info': {'Family': 'B737',\n",
        "  'Frame': 'B737-300_specimen',\n",
        "  'Frame Doubled': False,\n",
        "  'Manufacturer': 'Boeing',\n",
        "  'Precise Positioning': True,\n",
        "  'Series': 'B737-300'},\n",
        " 'filepath': 'c:/asias_fds/base_data/specimen_flight\\\\Specimen_Flight.hdf5',\n",
        " 'repo': 'local'}"
       ]
      }
     ],
     "prompt_number": 34
    },
    {
     "cell_type": "markdown",
     "metadata": {},
     "source": [
      "Load test flight data into an object of class Flight and have a look:"
     ]
    },
    {
     "cell_type": "code",
     "collapsed": false,
     "input": [
      "reload(helper)\n",
      "flt = helper.Flight()   \n",
      "flt.load_from_hdf5(test_flight)\n",
      "flt"
     ],
     "language": "python",
     "metadata": {},
     "outputs": [
      {
       "output_type": "stream",
       "stream": "stdout",
       "text": [
        "Specimen_Flight.hdf5\n"
       ]
      },
      {
       "metadata": {},
       "output_type": "pyout",
       "prompt_number": 47,
       "text": [
        "class Flight\n",
        "  filepath:       c:/asias_fds/base_data/specimen_flight\\Specimen_Flight.hdf5\n",
        "  duration:       2560.0\n",
        "  start_datetime: 2012-12-30 19:09:06\n",
        "  series:         [u'Vertical Speed', u'Fuel Qty', u'Eng (*) Gas Temp Avg']...\n",
        "  invalid_series: []...\n",
        "  aircraft_info:  {'Family': 'B737', 'Series': 'B737-300', 'Frame': 'B737-300_specimen', 'Frame Doubled': False, 'Precise Positioning': True, 'Manufacturer': 'Boeing'}"
       ]
      }
     ],
     "prompt_number": 47
    },
    {
     "cell_type": "markdown",
     "metadata": {},
     "source": [
      "#### Time series from hdf5"
     ]
    },
    {
     "cell_type": "code",
     "collapsed": false,
     "input": [
      "nb.hdf_search(flt.series, 'gear')  # use 'Gear On Ground'"
     ],
     "language": "python",
     "metadata": {},
     "outputs": [
      {
       "html": [
        "<div style=\"max-height:1000px;max-width:1500px;overflow:auto;\">\n",
        "<table border=\"1\" class=\"dataframe\">\n",
        "  <thead>\n",
        "    <tr style=\"text-align: right;\">\n",
        "      <th></th>\n",
        "      <th>name</th>\n",
        "      <th>recorded</th>\n",
        "      <th>frequency</th>\n",
        "      <th>data_type</th>\n",
        "      <th>units</th>\n",
        "      <th>values</th>\n",
        "    </tr>\n",
        "  </thead>\n",
        "  <tbody>\n",
        "    <tr>\n",
        "      <th>0</th>\n",
        "      <td> Gear Down Selected</td>\n",
        "      <td> F</td>\n",
        "      <td> 0.25</td>\n",
        "      <td> Derived Multi-state</td>\n",
        "      <td> </td>\n",
        "      <td>    {0: u'Up', 1: u'Down'}</td>\n",
        "    </tr>\n",
        "    <tr>\n",
        "      <th>1</th>\n",
        "      <td>     Gear On Ground</td>\n",
        "      <td> F</td>\n",
        "      <td> 1.00</td>\n",
        "      <td> Derived Multi-state</td>\n",
        "      <td> </td>\n",
        "      <td> {0: u'Air', 1: u'Ground'}</td>\n",
        "    </tr>\n",
        "    <tr>\n",
        "      <th>2</th>\n",
        "      <td>   Gear Up Selected</td>\n",
        "      <td> F</td>\n",
        "      <td> 0.25</td>\n",
        "      <td> Derived Multi-state</td>\n",
        "      <td> </td>\n",
        "      <td>    {0: u'Down', 1: u'Up'}</td>\n",
        "    </tr>\n",
        "    <tr>\n",
        "      <th>3</th>\n",
        "      <td>      Gear (N) Down</td>\n",
        "      <td> F</td>\n",
        "      <td> 0.25</td>\n",
        "      <td> Derived Multi-state</td>\n",
        "      <td> </td>\n",
        "      <td>     {0: u'-', 1: u'Down'}</td>\n",
        "    </tr>\n",
        "    <tr>\n",
        "      <th>4</th>\n",
        "      <td>      Gear (R) Down</td>\n",
        "      <td> F</td>\n",
        "      <td> 0.25</td>\n",
        "      <td> Derived Multi-state</td>\n",
        "      <td> </td>\n",
        "      <td>     {0: u'-', 1: u'Down'}</td>\n",
        "    </tr>\n",
        "    <tr>\n",
        "      <th>5</th>\n",
        "      <td>          Gear Down</td>\n",
        "      <td> F</td>\n",
        "      <td> 0.25</td>\n",
        "      <td> Derived Multi-state</td>\n",
        "      <td> </td>\n",
        "      <td>    {0: u'Up', 1: u'Down'}</td>\n",
        "    </tr>\n",
        "    <tr>\n",
        "      <th>6</th>\n",
        "      <td>      Gear (L) Down</td>\n",
        "      <td> F</td>\n",
        "      <td> 0.25</td>\n",
        "      <td> Derived Multi-state</td>\n",
        "      <td> </td>\n",
        "      <td>     {0: u'-', 1: u'Down'}</td>\n",
        "    </tr>\n",
        "  </tbody>\n",
        "</table>\n",
        "</div>"
       ],
       "metadata": {},
       "output_type": "pyout",
       "prompt_number": 48,
       "text": [
        "                 name recorded  frequency            data_type units  \\\n",
        "0  Gear Down Selected        F       0.25  Derived Multi-state         \n",
        "1      Gear On Ground        F       1.00  Derived Multi-state         \n",
        "2    Gear Up Selected        F       0.25  Derived Multi-state         \n",
        "3       Gear (N) Down        F       0.25  Derived Multi-state         \n",
        "4       Gear (R) Down        F       0.25  Derived Multi-state         \n",
        "5           Gear Down        F       0.25  Derived Multi-state         \n",
        "6       Gear (L) Down        F       0.25  Derived Multi-state         \n",
        "\n",
        "                      values  \n",
        "0     {0: u'Up', 1: u'Down'}  \n",
        "1  {0: u'Air', 1: u'Ground'}  \n",
        "2     {0: u'Down', 1: u'Up'}  \n",
        "3      {0: u'-', 1: u'Down'}  \n",
        "4      {0: u'-', 1: u'Down'}  \n",
        "5     {0: u'Up', 1: u'Down'}  \n",
        "6      {0: u'-', 1: u'Down'}  "
       ]
      }
     ],
     "prompt_number": 48
    },
    {
     "cell_type": "code",
     "collapsed": false,
     "input": [
      "nb.hdf_plot(flt.series['Gear On Ground'], ylim=(-0.1,1.1), style='r')"
     ],
     "language": "python",
     "metadata": {},
     "outputs": [
      {
       "metadata": {},
       "output_type": "display_data",
       "png": "[encoded data removed]",
       "text": [
        "<matplotlib.figure.Figure at 0xb038c88>"
       ]
      }
     ],
     "prompt_number": 49
    },
    {
     "cell_type": "markdown",
     "metadata": {},
     "source": [
      "Timeframe for touchdown:"
     ]
    },
    {
     "cell_type": "code",
     "collapsed": false,
     "input": [
      "lo=2220; hi=2280  #x axis limits "
     ],
     "language": "python",
     "metadata": {},
     "outputs": [],
     "prompt_number": 50
    },
    {
     "cell_type": "code",
     "collapsed": false,
     "input": [
      "nb.hdf_plot(flt.series['Gear On Ground'], xlim=(lo,hi), ylim=(-0.1,1.1), style='o-r');"
     ],
     "language": "python",
     "metadata": {},
     "outputs": [
      {
       "metadata": {},
       "output_type": "display_data",
       "png": "[encoded data removed]",
       "text": [
        "<matplotlib.figure.Figure at 0xb16f940>"
       ]
      }
     ],
     "prompt_number": 51
    },
    {
     "cell_type": "code",
     "collapsed": false,
     "input": [
      "nb.hdf_search( flt.series, 'Accel') #use 'Acceleration Normal'"
     ],
     "language": "python",
     "metadata": {},
     "outputs": [
      {
       "html": [
        "<div style=\"max-height:1000px;max-width:1500px;overflow:auto;\">\n",
        "<table border=\"1\" class=\"dataframe\">\n",
        "  <thead>\n",
        "    <tr style=\"text-align: right;\">\n",
        "      <th></th>\n",
        "      <th>name</th>\n",
        "      <th>recorded</th>\n",
        "      <th>frequency</th>\n",
        "      <th>data_type</th>\n",
        "      <th>units</th>\n",
        "      <th>values</th>\n",
        "    </tr>\n",
        "  </thead>\n",
        "  <tbody>\n",
        "    <tr>\n",
        "      <th>0</th>\n",
        "      <td>  Acceleration Normal Offset Removed</td>\n",
        "      <td> F</td>\n",
        "      <td> 8</td>\n",
        "      <td> Derived</td>\n",
        "      <td> </td>\n",
        "      <td> n/a</td>\n",
        "    </tr>\n",
        "    <tr>\n",
        "      <th>1</th>\n",
        "      <td>               Acceleration Vertical</td>\n",
        "      <td> F</td>\n",
        "      <td> 8</td>\n",
        "      <td> Derived</td>\n",
        "      <td> </td>\n",
        "      <td> n/a</td>\n",
        "    </tr>\n",
        "    <tr>\n",
        "      <th>2</th>\n",
        "      <td>               Acceleration Sideways</td>\n",
        "      <td> F</td>\n",
        "      <td> 8</td>\n",
        "      <td> Derived</td>\n",
        "      <td> </td>\n",
        "      <td> n/a</td>\n",
        "    </tr>\n",
        "    <tr>\n",
        "      <th>3</th>\n",
        "      <td>               Acceleration Forwards</td>\n",
        "      <td> F</td>\n",
        "      <td> 8</td>\n",
        "      <td> Derived</td>\n",
        "      <td> </td>\n",
        "      <td> n/a</td>\n",
        "    </tr>\n",
        "    <tr>\n",
        "      <th>4</th>\n",
        "      <td>                 Acceleration Normal</td>\n",
        "      <td> F</td>\n",
        "      <td> 8</td>\n",
        "      <td> Derived</td>\n",
        "      <td> </td>\n",
        "      <td> n/a</td>\n",
        "    </tr>\n",
        "    <tr>\n",
        "      <th>5</th>\n",
        "      <td>                Acceleration Lateral</td>\n",
        "      <td> F</td>\n",
        "      <td> 4</td>\n",
        "      <td> Derived</td>\n",
        "      <td> </td>\n",
        "      <td> n/a</td>\n",
        "    </tr>\n",
        "    <tr>\n",
        "      <th>6</th>\n",
        "      <td>           Acceleration Longitudinal</td>\n",
        "      <td> F</td>\n",
        "      <td> 4</td>\n",
        "      <td> Derived</td>\n",
        "      <td> </td>\n",
        "      <td> n/a</td>\n",
        "    </tr>\n",
        "    <tr>\n",
        "      <th>7</th>\n",
        "      <td> Acceleration Lateral Offset Removed</td>\n",
        "      <td> F</td>\n",
        "      <td> 4</td>\n",
        "      <td> Derived</td>\n",
        "      <td> </td>\n",
        "      <td> n/a</td>\n",
        "    </tr>\n",
        "  </tbody>\n",
        "</table>\n",
        "</div>"
       ],
       "metadata": {},
       "output_type": "pyout",
       "prompt_number": 52,
       "text": [
        "                                  name recorded  frequency data_type units  \\\n",
        "0   Acceleration Normal Offset Removed        F          8   Derived         \n",
        "1                Acceleration Vertical        F          8   Derived         \n",
        "2                Acceleration Sideways        F          8   Derived         \n",
        "3                Acceleration Forwards        F          8   Derived         \n",
        "4                  Acceleration Normal        F          8   Derived         \n",
        "5                 Acceleration Lateral        F          4   Derived         \n",
        "6            Acceleration Longitudinal        F          4   Derived         \n",
        "7  Acceleration Lateral Offset Removed        F          4   Derived         \n",
        "\n",
        "  values  \n",
        "0    n/a  \n",
        "1    n/a  \n",
        "2    n/a  \n",
        "3    n/a  \n",
        "4    n/a  \n",
        "5    n/a  \n",
        "6    n/a  \n",
        "7    n/a  "
       ]
      }
     ],
     "prompt_number": 52
    },
    {
     "cell_type": "code",
     "collapsed": false,
     "input": [
      "nb.hdf_plot( flt.series['Acceleration Normal'], xlim=(lo,hi), ylim=(0,2));"
     ],
     "language": "python",
     "metadata": {},
     "outputs": [
      {
       "metadata": {},
       "output_type": "display_data",
       "png": "[encoded data removed]",
       "text": [
        "<matplotlib.figure.Figure at 0xaf50d68>"
       ]
      }
     ],
     "prompt_number": 53
    },
    {
     "cell_type": "code",
     "collapsed": false,
     "input": [
      "nb.hdf_plot( flt.series['Acceleration Longitudinal'], xlim=(lo,hi));"
     ],
     "language": "python",
     "metadata": {},
     "outputs": [
      {
       "metadata": {},
       "output_type": "display_data",
       "png": "[encoded data removed]",
       "text": [
        "<matplotlib.figure.Figure at 0xb16da90>"
       ]
      }
     ],
     "prompt_number": 54
    },
    {
     "cell_type": "code",
     "collapsed": false,
     "input": [
      "nb.hdf_search( flt.series, 'Wheel') #use 'Wheel Speed'"
     ],
     "language": "python",
     "metadata": {},
     "outputs": [
      {
       "html": [
        "<div style=\"max-height:1000px;max-width:1500px;overflow:auto;\">\n",
        "<table border=\"1\" class=\"dataframe\">\n",
        "  <tbody>\n",
        "    <tr>\n",
        "      <td>Int64Index([], dtype=int64)</td>\n",
        "      <td>Empty DataFrame</td>\n",
        "    </tr>\n",
        "  </tbody>\n",
        "</table>\n",
        "</div>"
       ],
       "metadata": {},
       "output_type": "pyout",
       "prompt_number": 55,
       "text": [
        "Empty DataFrame\n",
        "Columns: [name, recorded, frequency, data_type, units, values]\n",
        "Index: []"
       ]
      }
     ],
     "prompt_number": 55
    },
    {
     "cell_type": "code",
     "collapsed": false,
     "input": [
      "#nb.hdf_plot( flt.series['Wheel Speed (L) (1)'], xlim=(lo,hi), style='o-g');"
     ],
     "language": "python",
     "metadata": {},
     "outputs": [],
     "prompt_number": 56
    },
    {
     "cell_type": "code",
     "collapsed": false,
     "input": [
      "#nb.hdf_search(series, 'Altitude') #Use Altitude Radio"
     ],
     "language": "python",
     "metadata": {},
     "outputs": [],
     "prompt_number": 57
    },
    {
     "cell_type": "code",
     "collapsed": false,
     "input": [
      "nb.hdf_plot( flt.series['Altitude Radio'], xlim=(lo,hi), ylim=(0,500),style='o-y');"
     ],
     "language": "python",
     "metadata": {},
     "outputs": [
      {
       "metadata": {},
       "output_type": "display_data",
       "png": "[encoded data removed]",
       "text": [
        "<matplotlib.figure.Figure at 0x1209b208>"
       ]
      }
     ],
     "prompt_number": 58
    },
    {
     "cell_type": "markdown",
     "metadata": {},
     "source": [
      "##Pre-Defined FDS Measurement Nodes  <a id=\"FDSNodes\"></a> (<a href=\"#Home\">Home</a>)"
     ]
    },
    {
     "cell_type": "markdown",
     "metadata": {},
     "source": [
      "Load measurement node definitions from FlightDataAnalyzer. We will need some to generate our profile measures, so we need to be able to conveniently pick through them."
     ]
    },
    {
     "cell_type": "code",
     "collapsed": false,
     "input": [
      "base_nodes = helper.get_derived_nodes(settings.NODE_MODULES)\n",
      "bn=base_nodes #shortcut\n",
      "sorted(bn.keys())[:5]"
     ],
     "language": "python",
     "metadata": {},
     "outputs": [
      {
       "metadata": {},
       "output_type": "pyout",
       "prompt_number": 59,
       "text": [
        "['2 Deg Pitch To 35 Ft',\n",
        " '2 Deg Pitch To 35 Ft Duration',\n",
        " 'AOA',\n",
        " 'AOA During Go Around Max',\n",
        " 'AOA With Flap Max']"
       ]
      }
     ],
     "prompt_number": 59
    },
    {
     "cell_type": "code",
     "collapsed": false,
     "input": [
      "nm='Grounded'\n",
      "nb.node_type(base_nodes, nm)"
     ],
     "language": "python",
     "metadata": {},
     "outputs": [
      {
       "metadata": {},
       "output_type": "pyout",
       "prompt_number": 60,
       "text": [
        "'phase'"
       ]
      }
     ],
     "prompt_number": 60
    },
    {
     "cell_type": "markdown",
     "metadata": {},
     "source": [
      "nb.nodesearch does case-insensitive partial matches against Node class names."
     ]
    },
    {
     "cell_type": "code",
     "collapsed": false,
     "input": [
      "nb.node_search(bn, 'final') "
     ],
     "language": "python",
     "metadata": {},
     "outputs": [
      {
       "html": [
        "<div style=\"max-height:1000px;max-width:1500px;overflow:auto;\">\n",
        "<table border=\"1\" class=\"dataframe\">\n",
        "  <thead>\n",
        "    <tr style=\"text-align: right;\">\n",
        "      <th></th>\n",
        "      <th>name</th>\n",
        "      <th>type</th>\n",
        "    </tr>\n",
        "  </thead>\n",
        "  <tbody>\n",
        "    <tr>\n",
        "      <th>0</th>\n",
        "      <td>   Eng N1 Cycles During Final Approach</td>\n",
        "      <td>   KPV</td>\n",
        "    </tr>\n",
        "    <tr>\n",
        "      <th>1</th>\n",
        "      <td>  Airspeed Gusts During Final Approach</td>\n",
        "      <td>   KPV</td>\n",
        "    </tr>\n",
        "    <tr>\n",
        "      <th>2</th>\n",
        "      <td>                        Final Approach</td>\n",
        "      <td> phase</td>\n",
        "    </tr>\n",
        "    <tr>\n",
        "      <th>3</th>\n",
        "      <td>   IAN Final Approach Course Deviation</td>\n",
        "      <td>   KPV</td>\n",
        "    </tr>\n",
        "    <tr>\n",
        "      <th>4</th>\n",
        "      <td>   Eng N2 Cycles During Final Approach</td>\n",
        "      <td>   KPV</td>\n",
        "    </tr>\n",
        "    <tr>\n",
        "      <th>5</th>\n",
        "      <td> Roll Cycles Not During Final Approach</td>\n",
        "      <td>   KPV</td>\n",
        "    </tr>\n",
        "    <tr>\n",
        "      <th>6</th>\n",
        "      <td>     Roll Cycles During Final Approach</td>\n",
        "      <td>   KPV</td>\n",
        "    </tr>\n",
        "    <tr>\n",
        "      <th>7</th>\n",
        "      <td>    Pitch Cycles During Final Approach</td>\n",
        "      <td>   KPV</td>\n",
        "    </tr>\n",
        "    <tr>\n",
        "      <th>8</th>\n",
        "      <td> Throttle Cycles During Final Approach</td>\n",
        "      <td>   KPV</td>\n",
        "    </tr>\n",
        "  </tbody>\n",
        "</table>\n",
        "</div>"
       ],
       "metadata": {},
       "output_type": "pyout",
       "prompt_number": 61,
       "text": [
        "                                    name   type\n",
        "0    Eng N1 Cycles During Final Approach    KPV\n",
        "1   Airspeed Gusts During Final Approach    KPV\n",
        "2                         Final Approach  phase\n",
        "3    IAN Final Approach Course Deviation    KPV\n",
        "4    Eng N2 Cycles During Final Approach    KPV\n",
        "5  Roll Cycles Not During Final Approach    KPV\n",
        "6      Roll Cycles During Final Approach    KPV\n",
        "7     Pitch Cycles During Final Approach    KPV\n",
        "8  Throttle Cycles During Final Approach    KPV"
       ]
      }
     ],
     "prompt_number": 61
    },
    {
     "cell_type": "markdown",
     "metadata": {},
     "source": [
      "Tab completion to select FlightDataAnalyzer functions:  nb.analysis_engine.*tab*"
     ]
    },
    {
     "cell_type": "code",
     "collapsed": false,
     "input": [
      "#nb.analysis_engine.key_point_values."
     ],
     "language": "python",
     "metadata": {},
     "outputs": [],
     "prompt_number": 62
    },
    {
     "cell_type": "markdown",
     "metadata": {},
     "source": [
      "## Define and test Flight Attributes <a id=\"Attributes\"></a> (<a href=\"#Home\">Home</a>)"
     ]
    },
    {
     "cell_type": "code",
     "collapsed": false,
     "input": [
      "class SimpleAttribute(FlightAttributeNode):\n",
      "    '''a simple FlightAttribute. start_datetime is used only to provide a dependency'''\n",
      "    name = 'Simple Attribute'\n",
      "    def derive(self, start_datetime=A('Start Datetime')):\n",
      "        self.set_flight_attr('Keith')"
     ],
     "language": "python",
     "metadata": {},
     "outputs": [],
     "prompt_number": 63
    },
    {
     "cell_type": "code",
     "collapsed": false,
     "input": [
      "#manually set pre-requisites and derive\n",
      "a = SimpleAttribute()\n",
      "a.derive( A('Start Datetime',666) )\n",
      "a.value"
     ],
     "language": "python",
     "metadata": {},
     "outputs": [
      {
       "metadata": {},
       "output_type": "pyout",
       "prompt_number": 64,
       "text": [
        "'Keith'"
       ]
      }
     ],
     "prompt_number": 64
    },
    {
     "cell_type": "code",
     "collapsed": false,
     "input": [
      "#use node manager to handle pre-requisites (from FlightDataAnalyzer) for us.\n",
      "par = nb.derive_one(SimpleAttribute, flt)  #returns a list of Nodes generated during the derivation\n",
      "par.values()[0]  # attribute values are a PITA due to an extra level of access, so..."
     ],
     "language": "python",
     "metadata": {},
     "outputs": [
      {
       "output_type": "stream",
       "stream": "stderr",
       "text": [
        "Found 229 dependencies which don't exist in LFL nor Node modules.\n"
       ]
      },
      {
       "output_type": "stream",
       "stream": "stderr",
       "text": [
        "Found 229 dependencies which don't exist in LFL nor Node modules.\n"
       ]
      },
      {
       "metadata": {},
       "output_type": "pyout",
       "prompt_number": 65,
       "text": [
        "Simple Attribute"
       ]
      }
     ],
     "prompt_number": 65
    },
    {
     "cell_type": "code",
     "collapsed": false,
     "input": [
      "# convenience function for checking attributes\n",
      "print nb.derive_attr(SimpleAttribute, flt)  #returns just the attribute value"
     ],
     "language": "python",
     "metadata": {},
     "outputs": [
      {
       "output_type": "stream",
       "stream": "stderr",
       "text": [
        "Found 229 dependencies which don't exist in LFL nor Node modules.\n"
       ]
      },
      {
       "output_type": "stream",
       "stream": "stderr",
       "text": [
        "Found 229 dependencies which don't exist in LFL nor Node modules.\n"
       ]
      },
      {
       "output_type": "stream",
       "stream": "stdout",
       "text": [
        "Keith\n"
       ]
      }
     ],
     "prompt_number": 66
    },
    {
     "cell_type": "code",
     "collapsed": false,
     "input": [
      "class FileAttribute(FlightAttributeNode):\n",
      "    '''a simple FlightAttribute. tests availability of Filename'''\n",
      "    name = 'File Attribute'\n",
      "    def derive(self, filename=A('Myfile')):\n",
      "        self.set_flight_attr(filename)"
     ],
     "language": "python",
     "metadata": {},
     "outputs": [],
     "prompt_number": 67
    },
    {
     "cell_type": "code",
     "collapsed": false,
     "input": [
      "print nb.derive_attr(FileAttribute, flt)"
     ],
     "language": "python",
     "metadata": {},
     "outputs": [
      {
       "output_type": "stream",
       "stream": "stderr",
       "text": [
        "Found 229 dependencies which don't exist in LFL nor Node modules.\n"
       ]
      },
      {
       "output_type": "stream",
       "stream": "stderr",
       "text": [
        "Found 229 dependencies which don't exist in LFL nor Node modules.\n"
       ]
      },
      {
       "output_type": "stream",
       "stream": "stdout",
       "text": [
        "Attribute('Myfile', 'c:/asias_fds/base_data/specimen_flight\\\\Specimen_Flight.hdf5')\n"
       ]
      }
     ],
     "prompt_number": 68
    },
    {
     "cell_type": "code",
     "collapsed": false,
     "input": [
      "class MydictAttribute(FlightAttributeNode):\n",
      "    '''a simple FlightAttribute. tests availability of Filename'''\n",
      "    name = 'Dictionary Attribute'\n",
      "    def derive(self, mydict=A('Mydict')):\n",
      "        mydict.value['testkey'] = [1,2,3]\n",
      "        self.set_flight_attr(mydict)"
     ],
     "language": "python",
     "metadata": {},
     "outputs": [],
     "prompt_number": 69
    },
    {
     "cell_type": "code",
     "collapsed": false,
     "input": [
      "print nb.derive_attr(MydictAttribute, flt)"
     ],
     "language": "python",
     "metadata": {},
     "outputs": [
      {
       "output_type": "stream",
       "stream": "stderr",
       "text": [
        "Found 229 dependencies which don't exist in LFL nor Node modules.\n"
       ]
      },
      {
       "output_type": "stream",
       "stream": "stderr",
       "text": [
        "Found 229 dependencies which don't exist in LFL nor Node modules.\n"
       ]
      },
      {
       "output_type": "stream",
       "stream": "stdout",
       "text": [
        "Attribute('Mydict', {'testkey': [1, 2, 3]})\n"
       ]
      }
     ],
     "prompt_number": 70
    },
    {
     "cell_type": "markdown",
     "metadata": {},
     "source": [
      "##Define Key Time Instances <a id=\"KTI\"></a> (<a href=\"#Home\">Home</a>)"
     ]
    },
    {
     "cell_type": "code",
     "collapsed": false,
     "input": [
      "class SimpleKTI(KeyTimeInstanceNode):\n",
      "    '''a simple KTI. start_datetime is used only to provide a dependency'''\n",
      "    def derive(self, start_datetime=A('Start Datetime')):\n",
      "        #print 'in SimpleKTI'\n",
      "        self.create_kti(3)      \n",
      "\n",
      "class SimplerKTI(KeyTimeInstanceNode):\n",
      "    '''manually built KTI. start_datetime is used only to provide a dependency'''\n",
      "    def derive(self, start_datetime=A('Start Datetime')):\n",
      "        #print 'in SimplerKTI'\n",
      "        kti=KeyTimeInstance(index=700., name='My Simpler KTI') #freq=1hz and offset=0 by default\n",
      "        self.append( kti )\n",
      "    "
     ],
     "language": "python",
     "metadata": {},
     "outputs": [],
     "prompt_number": 71
    },
    {
     "cell_type": "code",
     "collapsed": false,
     "input": [
      "nb.derive_one(SimpleKTI, flt)"
     ],
     "language": "python",
     "metadata": {},
     "outputs": [
      {
       "output_type": "stream",
       "stream": "stderr",
       "text": [
        "Found 229 dependencies which don't exist in LFL nor Node modules.\n"
       ]
      },
      {
       "output_type": "stream",
       "stream": "stderr",
       "text": [
        "Found 229 dependencies which don't exist in LFL nor Node modules.\n"
       ]
      },
      {
       "metadata": {},
       "output_type": "pyout",
       "prompt_number": 72,
       "text": [
        "OrderedDict([('SimpleKTI', [KeyTimeInstance(index=3, name='Simple Kti', datetime=None, latitude=None, longitude=None)])])"
       ]
      }
     ],
     "prompt_number": 72
    },
    {
     "cell_type": "code",
     "collapsed": false,
     "input": [
      "nb.derive_one(SimplerKTI, flt)"
     ],
     "language": "python",
     "metadata": {},
     "outputs": [
      {
       "output_type": "stream",
       "stream": "stderr",
       "text": [
        "Found 229 dependencies which don't exist in LFL nor Node modules.\n"
       ]
      },
      {
       "output_type": "stream",
       "stream": "stderr",
       "text": [
        "Found 229 dependencies which don't exist in LFL nor Node modules.\n"
       ]
      },
      {
       "metadata": {},
       "output_type": "pyout",
       "prompt_number": 73,
       "text": [
        "OrderedDict([('SimplerKTI', [KeyTimeInstance(index=700.0, name='My Simpler KTI', datetime=None, latitude=None, longitude=None)])])"
       ]
      }
     ],
     "prompt_number": 73
    },
    {
     "cell_type": "markdown",
     "metadata": {},
     "source": [
      "####KTI based on a Discrete state change"
     ]
    },
    {
     "cell_type": "code",
     "collapsed": false,
     "input": [
      "nb.hdf_search(flt.series, 'tcas') "
     ],
     "language": "python",
     "metadata": {},
     "outputs": [
      {
       "html": [
        "<div style=\"max-height:1000px;max-width:1500px;overflow:auto;\">\n",
        "<table border=\"1\" class=\"dataframe\">\n",
        "  <tbody>\n",
        "    <tr>\n",
        "      <td>Int64Index([], dtype=int64)</td>\n",
        "      <td>Empty DataFrame</td>\n",
        "    </tr>\n",
        "  </tbody>\n",
        "</table>\n",
        "</div>"
       ],
       "metadata": {},
       "output_type": "pyout",
       "prompt_number": 74,
       "text": [
        "Empty DataFrame\n",
        "Columns: [name, recorded, frequency, data_type, units, values]\n",
        "Index: []"
       ]
      }
     ],
     "prompt_number": 74
    },
    {
     "cell_type": "code",
     "collapsed": false,
     "input": [
      "class TCASRAStart(KeyTimeInstanceNode):\n",
      "    '''Time of up or down advisory'''\n",
      "    name = 'TCAS RA Start'\n",
      "\n",
      "    def derive(self, tcas=M('TCAS Combined Control'), air=S('Airborne')):\n",
      "        #print 'in TCASRAStart'\n",
      "        self.create_ktis_on_state_change(\n",
      "                    'Up Advisory Corrective',\n",
      "                    tcas.array,\n",
      "                    change='entering',\n",
      "                    phase=air\n",
      "                )                           \n",
      "        self.create_ktis_on_state_change(\n",
      "                    'Down Advisory Corrective',\n",
      "                    tcas.array,\n",
      "                    change='entering',\n",
      "                    phase=air\n",
      "                )                           \n",
      "        return              "
     ],
     "language": "python",
     "metadata": {},
     "outputs": [],
     "prompt_number": 75
    },
    {
     "cell_type": "code",
     "collapsed": false,
     "input": [
      "# add info about inoperable parameters!\n",
      "nb.derived_table( nb.derive_one(TCASRAStart, flt))"
     ],
     "language": "python",
     "metadata": {},
     "outputs": [
      {
       "output_type": "stream",
       "stream": "stderr",
       "text": [
        "Found 229 dependencies which don't exist in LFL nor Node modules.\n"
       ]
      },
      {
       "output_type": "stream",
       "stream": "stderr",
       "text": [
        "Found 229 dependencies which don't exist in LFL nor Node modules.\n"
       ]
      },
      {
       "output_type": "stream",
       "stream": "stderr",
       "text": [
        "Found 1 inoperable required parameters.\n"
       ]
      },
      {
       "output_type": "stream",
       "stream": "stderr",
       "text": [
        "Found 1 inoperable required parameters.\n"
       ]
      },
      {
       "html": [
        "<div style=\"max-height:1000px;max-width:1500px;overflow:auto;\">\n",
        "<table border=\"1\" class=\"dataframe\">\n",
        "  <thead>\n",
        "    <tr style=\"text-align: right;\">\n",
        "      <th></th>\n",
        "      <th>name</th>\n",
        "      <th>node_type</th>\n",
        "      <th>val</th>\n",
        "    </tr>\n",
        "  </thead>\n",
        "  <tbody>\n",
        "    <tr>\n",
        "      <th>0</th>\n",
        "      <td>     Fast</td>\n",
        "      <td> FlightPhaseNode</td>\n",
        "      <td> (343.109375, 2267.109375, None)</td>\n",
        "    </tr>\n",
        "    <tr>\n",
        "      <th>1</th>\n",
        "      <td> Airborne</td>\n",
        "      <td> FlightPhaseNode</td>\n",
        "      <td>           (356.5, 2255.5, None)</td>\n",
        "    </tr>\n",
        "  </tbody>\n",
        "</table>\n",
        "</div>"
       ],
       "metadata": {},
       "output_type": "pyout",
       "prompt_number": 76,
       "text": [
        "       name        node_type                              val\n",
        "0      Fast  FlightPhaseNode  (343.109375, 2267.109375, None)\n",
        "1  Airborne  FlightPhaseNode            (356.5, 2255.5, None)"
       ]
      }
     ],
     "prompt_number": 76
    },
    {
     "cell_type": "markdown",
     "metadata": {},
     "source": [
      "##Define Key Point Values <a id=\"KPV\"></a> (<a href=\"#Home\">Home</a>)"
     ]
    },
    {
     "cell_type": "code",
     "collapsed": false,
     "input": [
      "class SimpleKPV(KeyPointValueNode):\n",
      "    '''a simple KPV. start_datetime is used only to provide a dependency'''\n",
      "    units='fpm'\n",
      "    def derive(self, start_datetime=A('Start Datetime')):\n",
      "        self.create_kpv(3.0, 999.9)"
     ],
     "language": "python",
     "metadata": {},
     "outputs": [],
     "prompt_number": 77
    },
    {
     "cell_type": "code",
     "collapsed": false,
     "input": [
      "nb.derived_table( nb.derive_one(SimpleKPV, flt) )"
     ],
     "language": "python",
     "metadata": {},
     "outputs": [
      {
       "output_type": "stream",
       "stream": "stderr",
       "text": [
        "Found 229 dependencies which don't exist in LFL nor Node modules.\n"
       ]
      },
      {
       "output_type": "stream",
       "stream": "stderr",
       "text": [
        "Found 229 dependencies which don't exist in LFL nor Node modules.\n"
       ]
      },
      {
       "html": [
        "<div style=\"max-height:1000px;max-width:1500px;overflow:auto;\">\n",
        "<table border=\"1\" class=\"dataframe\">\n",
        "  <thead>\n",
        "    <tr style=\"text-align: right;\">\n",
        "      <th></th>\n",
        "      <th>name</th>\n",
        "      <th>node_type</th>\n",
        "      <th>val</th>\n",
        "    </tr>\n",
        "  </thead>\n",
        "  <tbody>\n",
        "    <tr>\n",
        "      <th>0</th>\n",
        "      <td> SimpleKPV</td>\n",
        "      <td> KeyPointValueNode</td>\n",
        "      <td> [[3.0, 999.9, Simple Kpv, slice(None, None, No...</td>\n",
        "    </tr>\n",
        "  </tbody>\n",
        "</table>\n",
        "</div>"
       ],
       "metadata": {},
       "output_type": "pyout",
       "prompt_number": 78,
       "text": [
        "        name          node_type  \\\n",
        "0  SimpleKPV  KeyPointValueNode   \n",
        "\n",
        "                                                 val  \n",
        "0  [[3.0, 999.9, Simple Kpv, slice(None, None, No...  "
       ]
      }
     ],
     "prompt_number": 78
    },
    {
     "cell_type": "code",
     "collapsed": false,
     "input": [
      "class SimplerKPV(KeyPointValueNode):\n",
      "    '''just build it manually'''\n",
      "    units='deg'\n",
      "    def derive(self, start_datetime=A('Start Datetime')):\n",
      "        self.append(KeyPointValue(index=42.5, value=666.6,name='My Simpler KPV'))\n",
      "        #print 'simpler KPV 2'\n",
      "        self.append(KeyPointValue(index=44.5, value=666.6,name='My Simpler KPV 2'))"
     ],
     "language": "python",
     "metadata": {},
     "outputs": [],
     "prompt_number": 79
    },
    {
     "cell_type": "code",
     "collapsed": false,
     "input": [
      "nb.derived_table( nb.derive_one(SimplerKPV, flt) )"
     ],
     "language": "python",
     "metadata": {},
     "outputs": [
      {
       "output_type": "stream",
       "stream": "stderr",
       "text": [
        "Found 229 dependencies which don't exist in LFL nor Node modules.\n"
       ]
      },
      {
       "output_type": "stream",
       "stream": "stderr",
       "text": [
        "Found 229 dependencies which don't exist in LFL nor Node modules.\n"
       ]
      },
      {
       "html": [
        "<div style=\"max-height:1000px;max-width:1500px;overflow:auto;\">\n",
        "<table border=\"1\" class=\"dataframe\">\n",
        "  <thead>\n",
        "    <tr style=\"text-align: right;\">\n",
        "      <th></th>\n",
        "      <th>name</th>\n",
        "      <th>node_type</th>\n",
        "      <th>val</th>\n",
        "    </tr>\n",
        "  </thead>\n",
        "  <tbody>\n",
        "    <tr>\n",
        "      <th>0</th>\n",
        "      <td> SimplerKPV</td>\n",
        "      <td> KeyPointValueNode</td>\n",
        "      <td> [[42.5, 666.6, My Simpler KPV, slice(None, Non...</td>\n",
        "    </tr>\n",
        "  </tbody>\n",
        "</table>\n",
        "</div>"
       ],
       "metadata": {},
       "output_type": "pyout",
       "prompt_number": 80,
       "text": [
        "         name          node_type  \\\n",
        "0  SimplerKPV  KeyPointValueNode   \n",
        "\n",
        "                                                 val  \n",
        "0  [[42.5, 666.6, My Simpler KPV, slice(None, Non...  "
       ]
      }
     ],
     "prompt_number": 80
    },
    {
     "cell_type": "markdown",
     "metadata": {},
     "source": [
      "###KPV Derived from a Time Series during specified phase -- Airspeed at Flaps 10-15 "
     ]
    },
    {
     "cell_type": "code",
     "collapsed": false,
     "input": [
      "nb.hdf_search(flt.series, 'flap') "
     ],
     "language": "python",
     "metadata": {},
     "outputs": [
      {
       "html": [
        "<div style=\"max-height:1000px;max-width:1500px;overflow:auto;\">\n",
        "<table border=\"1\" class=\"dataframe\">\n",
        "  <thead>\n",
        "    <tr style=\"text-align: right;\">\n",
        "      <th></th>\n",
        "      <th>name</th>\n",
        "      <th>recorded</th>\n",
        "      <th>frequency</th>\n",
        "      <th>data_type</th>\n",
        "      <th>units</th>\n",
        "      <th>values</th>\n",
        "    </tr>\n",
        "  </thead>\n",
        "  <tbody>\n",
        "    <tr>\n",
        "      <th>0</th>\n",
        "      <td>     Flap (R)</td>\n",
        "      <td> F</td>\n",
        "      <td> 0.5</td>\n",
        "      <td> Derived</td>\n",
        "      <td> </td>\n",
        "      <td> n/a</td>\n",
        "    </tr>\n",
        "    <tr>\n",
        "      <th>1</th>\n",
        "      <td> Flap Surface</td>\n",
        "      <td> F</td>\n",
        "      <td> 1.0</td>\n",
        "      <td> Derived</td>\n",
        "      <td> </td>\n",
        "      <td> n/a</td>\n",
        "    </tr>\n",
        "    <tr>\n",
        "      <th>2</th>\n",
        "      <td>         Flap</td>\n",
        "      <td> F</td>\n",
        "      <td> 1.0</td>\n",
        "      <td> Derived</td>\n",
        "      <td> </td>\n",
        "      <td> n/a</td>\n",
        "    </tr>\n",
        "    <tr>\n",
        "      <th>3</th>\n",
        "      <td>     Flap (L)</td>\n",
        "      <td> F</td>\n",
        "      <td> 0.5</td>\n",
        "      <td> Derived</td>\n",
        "      <td> </td>\n",
        "      <td> n/a</td>\n",
        "    </tr>\n",
        "  </tbody>\n",
        "</table>\n",
        "</div>"
       ],
       "metadata": {},
       "output_type": "pyout",
       "prompt_number": 81,
       "text": [
        "           name recorded  frequency data_type units values\n",
        "0      Flap (R)        F        0.5   Derived          n/a\n",
        "1  Flap Surface        F        1.0   Derived          n/a\n",
        "2          Flap        F        1.0   Derived          n/a\n",
        "3      Flap (L)        F        0.5   Derived          n/a"
       ]
      }
     ],
     "prompt_number": 81
    },
    {
     "cell_type": "code",
     "collapsed": false,
     "input": [
      "nb.hdf_search(flt.series, 'slat') "
     ],
     "language": "python",
     "metadata": {},
     "outputs": [
      {
       "html": [
        "<div style=\"max-height:1000px;max-width:1500px;overflow:auto;\">\n",
        "<table border=\"1\" class=\"dataframe\">\n",
        "  <tbody>\n",
        "    <tr>\n",
        "      <td>Int64Index([], dtype=int64)</td>\n",
        "      <td>Empty DataFrame</td>\n",
        "    </tr>\n",
        "  </tbody>\n",
        "</table>\n",
        "</div>"
       ],
       "metadata": {},
       "output_type": "pyout",
       "prompt_number": 82,
       "text": [
        "Empty DataFrame\n",
        "Columns: [name, recorded, frequency, data_type, units, values]\n",
        "Index: []"
       ]
      }
     ],
     "prompt_number": 82
    },
    {
     "cell_type": "code",
     "collapsed": false,
     "input": [
      "class AirspeedFirstFlapDescent(KeyPointValueNode):\n",
      "    '''airspeed as flaps go to 10-15 deg during descent'''\n",
      "    name = 'Airspeed At First Flap Descent'\n",
      "    units='kts'\n",
      "    #def derive(self, airspeed=P('Airspeed'), first_flaps=KTI('Flap 10 Set')): #, descent=S('Descent')):\n",
      "    def derive(self, airspeed=P('Airspeed'), flaps=P('Flap Surface'), descent=S('Descent')):\n",
      "      for section in descent:     # zero out travel on the ground      \n",
      "          flap_slices = flaps.slices_from_to(9.0, 16.0)      \n",
      "          for s in flap_slices:\n",
      "              if section.start_edge < s.start <= section.stop_edge  :\n",
      "                  print 'in a flap slice', s.start, airspeed.array[s.start]\n",
      "                  self.append(KeyPointValue(index=s.start, \n",
      "                                        value=airspeed.array[s.start],\n",
      "                                        name='Airspeed At First Flap Descent')\n",
      "                                        )"
     ],
     "language": "python",
     "metadata": {},
     "outputs": [],
     "prompt_number": 83
    },
    {
     "cell_type": "code",
     "collapsed": false,
     "input": [
      "nb.hdf_plot(flt.series['Flap Surface'])"
     ],
     "language": "python",
     "metadata": {},
     "outputs": [
      {
       "metadata": {},
       "output_type": "display_data",
       "png": "[encoded data removed]",
       "text": [
        "<matplotlib.figure.Figure at 0xaf3db00>"
       ]
      }
     ],
     "prompt_number": 84
    },
    {
     "cell_type": "code",
     "collapsed": false,
     "input": [
      "par_flap_spd = nb.derive_one( AirspeedFirstFlapDescent, flt)\n",
      "nb.derived_table(par_flap_spd)"
     ],
     "language": "python",
     "metadata": {},
     "outputs": [
      {
       "output_type": "stream",
       "stream": "stderr",
       "text": [
        "Found 229 dependencies which don't exist in LFL nor Node modules.\n"
       ]
      },
      {
       "output_type": "stream",
       "stream": "stderr",
       "text": [
        "Found 229 dependencies which don't exist in LFL nor Node modules.\n"
       ]
      },
      {
       "output_type": "stream",
       "stream": "stdout",
       "text": [
        "in a flap slice 2111 178.0\n"
       ]
      },
      {
       "html": [
        "<div style=\"max-height:1000px;max-width:1500px;overflow:auto;\">\n",
        "<table border=\"1\" class=\"dataframe\">\n",
        "  <thead>\n",
        "    <tr style=\"text-align: right;\">\n",
        "      <th></th>\n",
        "      <th>name</th>\n",
        "      <th>node_type</th>\n",
        "      <th>val</th>\n",
        "    </tr>\n",
        "  </thead>\n",
        "  <tbody>\n",
        "    <tr>\n",
        "      <th>0</th>\n",
        "      <td>                     Fast</td>\n",
        "      <td>     FlightPhaseNode</td>\n",
        "      <td>                   (343.109375, 2267.109375, None)</td>\n",
        "    </tr>\n",
        "    <tr>\n",
        "      <th>1</th>\n",
        "      <td>                 Airborne</td>\n",
        "      <td>     FlightPhaseNode</td>\n",
        "      <td>                             (356.5, 2255.5, None)</td>\n",
        "    </tr>\n",
        "    <tr>\n",
        "      <th>2</th>\n",
        "      <td>     Climb Cruise Descent</td>\n",
        "      <td>     FlightPhaseNode</td>\n",
        "      <td>                             (356.5, 2254.5, None)</td>\n",
        "    </tr>\n",
        "    <tr>\n",
        "      <th>3</th>\n",
        "      <td>           Top Of Descent</td>\n",
        "      <td> KeyTimeInstanceNode</td>\n",
        "      <td>        [[1241, Top Of Descent, None, None, None]]</td>\n",
        "    </tr>\n",
        "    <tr>\n",
        "      <th>4</th>\n",
        "      <td>        Descent Low Climb</td>\n",
        "      <td>     FlightPhaseNode</td>\n",
        "      <td>                                                []</td>\n",
        "    </tr>\n",
        "    <tr>\n",
        "      <th>5</th>\n",
        "      <td>        Bottom Of Descent</td>\n",
        "      <td> KeyTimeInstanceNode</td>\n",
        "      <td>   [[2255.0, Bottom Of Descent, None, None, None]]</td>\n",
        "    </tr>\n",
        "    <tr>\n",
        "      <th>6</th>\n",
        "      <td>                  Descent</td>\n",
        "      <td>     FlightPhaseNode</td>\n",
        "      <td>                            (1241.5, 2255.5, None)</td>\n",
        "    </tr>\n",
        "    <tr>\n",
        "      <th>7</th>\n",
        "      <td> AirspeedFirstFlapDescent</td>\n",
        "      <td>   KeyPointValueNode</td>\n",
        "      <td> [[2111, 178.0, Airspeed At First Flap Descent,...</td>\n",
        "    </tr>\n",
        "  </tbody>\n",
        "</table>\n",
        "</div>"
       ],
       "metadata": {},
       "output_type": "pyout",
       "prompt_number": 85,
       "text": [
        "                       name            node_type                                                val\n",
        "0                      Fast      FlightPhaseNode                    (343.109375, 2267.109375, None)\n",
        "1                  Airborne      FlightPhaseNode                              (356.5, 2255.5, None)\n",
        "2      Climb Cruise Descent      FlightPhaseNode                              (356.5, 2254.5, None)\n",
        "3            Top Of Descent  KeyTimeInstanceNode         [[1241, Top Of Descent, None, None, None]]\n",
        "4         Descent Low Climb      FlightPhaseNode                                                 []\n",
        "5         Bottom Of Descent  KeyTimeInstanceNode    [[2255.0, Bottom Of Descent, None, None, None]]\n",
        "6                   Descent      FlightPhaseNode                             (1241.5, 2255.5, None)\n",
        "7  AirspeedFirstFlapDescent    KeyPointValueNode  [[2111, 178.0, Airspeed At First Flap Descent,..."
       ]
      }
     ],
     "prompt_number": 85
    },
    {
     "cell_type": "markdown",
     "metadata": {},
     "source": [
      "##Define Flight Phases = Sections <a id=\"Phase\"></a> (<a href=\"#Home\">Home</a>)"
     ]
    },
    {
     "cell_type": "code",
     "collapsed": false,
     "input": [
      "class InitialApproach(FlightPhaseNode):\n",
      "    ''' a phase, derived from other phases.  S()=section=phase'''\n",
      "    def derive(self, approach=S('Approach'), final=S('Final Approach') ):\n",
      "        if len(approach)>0 and len(final)>0:\n",
      "            dbegin = min([d.start_edge for d in approach])\n",
      "            dend   = min([d.start_edge for d in final]) #exclude approach time\n",
      "            self.create_phase(slice( dbegin, dend ))\n",
      "        return"
     ],
     "language": "python",
     "metadata": {},
     "outputs": [],
     "prompt_number": 86
    },
    {
     "cell_type": "code",
     "collapsed": false,
     "input": [
      "par_init_appr = nb.derive_one(InitialApproach, flt)\n",
      "nb.derived_table( par_init_appr )"
     ],
     "language": "python",
     "metadata": {},
     "outputs": [
      {
       "output_type": "stream",
       "stream": "stderr",
       "text": [
        "Found 229 dependencies which don't exist in LFL nor Node modules.\n"
       ]
      },
      {
       "output_type": "stream",
       "stream": "stderr",
       "text": [
        "Found 229 dependencies which don't exist in LFL nor Node modules.\n"
       ]
      },
      {
       "html": [
        "<div style=\"max-height:1000px;max-width:1500px;overflow:auto;\">\n",
        "<table border=\"1\" class=\"dataframe\">\n",
        "  <thead>\n",
        "    <tr style=\"text-align: right;\">\n",
        "      <th></th>\n",
        "      <th>name</th>\n",
        "      <th>node_type</th>\n",
        "      <th>val</th>\n",
        "    </tr>\n",
        "  </thead>\n",
        "  <tbody>\n",
        "    <tr>\n",
        "      <th>0</th>\n",
        "      <td>       Final Approach</td>\n",
        "      <td>     FlightPhaseNode</td>\n",
        "      <td>                        (2170.5, 2247.5, None)</td>\n",
        "    </tr>\n",
        "    <tr>\n",
        "      <th>1</th>\n",
        "      <td>                 Fast</td>\n",
        "      <td>     FlightPhaseNode</td>\n",
        "      <td>               (343.109375, 2267.109375, None)</td>\n",
        "    </tr>\n",
        "    <tr>\n",
        "      <th>2</th>\n",
        "      <td>              Landing</td>\n",
        "      <td>     FlightPhaseNode</td>\n",
        "      <td> (2247.424033736791, 2318.8764204545455, None)</td>\n",
        "    </tr>\n",
        "    <tr>\n",
        "      <th>3</th>\n",
        "      <td>    Descent Low Climb</td>\n",
        "      <td>     FlightPhaseNode</td>\n",
        "      <td>                                            []</td>\n",
        "    </tr>\n",
        "    <tr>\n",
        "      <th>4</th>\n",
        "      <td>            Go Around</td>\n",
        "      <td> KeyTimeInstanceNode</td>\n",
        "      <td>                                            []</td>\n",
        "    </tr>\n",
        "    <tr>\n",
        "      <th>5</th>\n",
        "      <td> Approach And Landing</td>\n",
        "      <td>     FlightPhaseNode</td>\n",
        "      <td>                        (2036.0, 2319.0, None)</td>\n",
        "    </tr>\n",
        "    <tr>\n",
        "      <th>6</th>\n",
        "      <td>             Approach</td>\n",
        "      <td>     FlightPhaseNode</td>\n",
        "      <td>                        (2036.0, 2248.0, None)</td>\n",
        "    </tr>\n",
        "    <tr>\n",
        "      <th>7</th>\n",
        "      <td>      InitialApproach</td>\n",
        "      <td>     FlightPhaseNode</td>\n",
        "      <td>                        (2036.0, 2170.5, None)</td>\n",
        "    </tr>\n",
        "  </tbody>\n",
        "</table>\n",
        "</div>"
       ],
       "metadata": {},
       "output_type": "pyout",
       "prompt_number": 87,
       "text": [
        "                   name            node_type                                            val\n",
        "0        Final Approach      FlightPhaseNode                         (2170.5, 2247.5, None)\n",
        "1                  Fast      FlightPhaseNode                (343.109375, 2267.109375, None)\n",
        "2               Landing      FlightPhaseNode  (2247.424033736791, 2318.8764204545455, None)\n",
        "3     Descent Low Climb      FlightPhaseNode                                             []\n",
        "4             Go Around  KeyTimeInstanceNode                                             []\n",
        "5  Approach And Landing      FlightPhaseNode                         (2036.0, 2319.0, None)\n",
        "6              Approach      FlightPhaseNode                         (2036.0, 2248.0, None)\n",
        "7       InitialApproach      FlightPhaseNode                         (2036.0, 2170.5, None)"
       ]
      }
     ],
     "prompt_number": 87
    },
    {
     "cell_type": "markdown",
     "metadata": {},
     "source": [
      "##Define Derived Parameters = Time Series <a id=\"Parameter\"></a> (<a href=\"#Home\">Home</a>)"
     ]
    },
    {
     "cell_type": "markdown",
     "metadata": {},
     "source": [
      "$$DistanceAir=\\int_{t} AirspeedTrue, {t}\\not\\in Ground$$"
     ]
    },
    {
     "cell_type": "code",
     "collapsed": false,
     "input": [
      "class DistanceTravelledInAirX(DerivedParameterNode):\n",
      "    '''a simple derived parameter = a new time series'''\n",
      "    units='nm'\n",
      "    def derive(self, airspeed=P('Airspeed True'), grounded=S('Grounded') ):\n",
      "        for section in grounded:                      # zero out travel on the ground\n",
      "            airspeed.array[section.slice]=0.0         # this is already a copy \n",
      "        nm_per_sec = airspeed.array / 3600.0   \n",
      "        repaired_array = repair_mask(nm_per_sec)  # to avoid integration hiccups \n",
      "        adist      = integrate( repaired_array, airspeed.frequency )\n",
      "        self.array = adist  "
     ],
     "language": "python",
     "metadata": {},
     "outputs": [],
     "prompt_number": 88
    },
    {
     "cell_type": "code",
     "collapsed": false,
     "input": [
      "# get an AirspeedTrue node object to play with\n",
      "aspd_class = bn['Airspeed True']\n",
      "par_aspd = nb.derive_one(aspd_class, flt)\n",
      "nb.derived_table( par_aspd )"
     ],
     "language": "python",
     "metadata": {},
     "outputs": [
      {
       "output_type": "stream",
       "stream": "stderr",
       "text": [
        "Found 229 dependencies which don't exist in LFL nor Node modules.\n"
       ]
      },
      {
       "output_type": "stream",
       "stream": "stderr",
       "text": [
        "Found 229 dependencies which don't exist in LFL nor Node modules.\n"
       ]
      },
      {
       "html": [
        "<div style=\"max-height:1000px;max-width:1500px;overflow:auto;\">\n",
        "<table border=\"1\" class=\"dataframe\">\n",
        "  <thead>\n",
        "    <tr style=\"text-align: right;\">\n",
        "      <th></th>\n",
        "      <th>name</th>\n",
        "      <th>node_type</th>\n",
        "      <th>val</th>\n",
        "    </tr>\n",
        "  </thead>\n",
        "  <tbody>\n",
        "    <tr>\n",
        "      <th>0</th>\n",
        "      <td>         Fast</td>\n",
        "      <td>      FlightPhaseNode</td>\n",
        "      <td>                (343.109375, 2267.109375, None)</td>\n",
        "    </tr>\n",
        "    <tr>\n",
        "      <th>1</th>\n",
        "      <td>      Landing</td>\n",
        "      <td>      FlightPhaseNode</td>\n",
        "      <td>  (2247.424033736791, 2318.8764204545455, None)</td>\n",
        "    </tr>\n",
        "    <tr>\n",
        "      <th>2</th>\n",
        "      <td>      Takeoff</td>\n",
        "      <td>      FlightPhaseNode</td>\n",
        "      <td> (320.08854166666669, 360.57771664540326, None)</td>\n",
        "    </tr>\n",
        "    <tr>\n",
        "      <th>3</th>\n",
        "      <td> AirspeedTrue</td>\n",
        "      <td> DerivedParameterNode</td>\n",
        "      <td>   AirspeedTrue('Airspeed True', 1.0, 0.109375)</td>\n",
        "    </tr>\n",
        "  </tbody>\n",
        "</table>\n",
        "</div>"
       ],
       "metadata": {},
       "output_type": "pyout",
       "prompt_number": 89,
       "text": [
        "           name             node_type                                             val\n",
        "0          Fast       FlightPhaseNode                 (343.109375, 2267.109375, None)\n",
        "1       Landing       FlightPhaseNode   (2247.424033736791, 2318.8764204545455, None)\n",
        "2       Takeoff       FlightPhaseNode  (320.08854166666669, 360.57771664540326, None)\n",
        "3  AirspeedTrue  DerivedParameterNode    AirspeedTrue('Airspeed True', 1.0, 0.109375)"
       ]
      }
     ],
     "prompt_number": 89
    },
    {
     "cell_type": "code",
     "collapsed": false,
     "input": [
      "aspd=par_aspd['AirspeedTrue']\n",
      "aspd.array / 3600."
     ],
     "language": "python",
     "metadata": {},
     "outputs": [
      {
       "metadata": {},
       "output_type": "pyout",
       "prompt_number": 90,
       "text": [
        "masked_array(data = [-- -- -- ..., -- -- --],\n",
        "             mask = [ True  True  True ...,  True  True  True],\n",
        "       fill_value = 1e+20)\n"
       ]
      }
     ],
     "prompt_number": 90
    },
    {
     "cell_type": "code",
     "collapsed": false,
     "input": [
      "par_adist = nb.derive_one(DistanceTravelledInAirX, flt)\n",
      "nb.derived_table( par_adist )"
     ],
     "language": "python",
     "metadata": {},
     "outputs": [
      {
       "output_type": "stream",
       "stream": "stderr",
       "text": [
        "Found 229 dependencies which don't exist in LFL nor Node modules.\n"
       ]
      },
      {
       "output_type": "stream",
       "stream": "stderr",
       "text": [
        "Found 229 dependencies which don't exist in LFL nor Node modules.\n"
       ]
      },
      {
       "html": [
        "<div style=\"max-height:1000px;max-width:1500px;overflow:auto;\">\n",
        "<table border=\"1\" class=\"dataframe\">\n",
        "  <thead>\n",
        "    <tr style=\"text-align: right;\">\n",
        "      <th></th>\n",
        "      <th>name</th>\n",
        "      <th>node_type</th>\n",
        "      <th>val</th>\n",
        "    </tr>\n",
        "  </thead>\n",
        "  <tbody>\n",
        "    <tr>\n",
        "      <th>0</th>\n",
        "      <td>                    Fast</td>\n",
        "      <td>      FlightPhaseNode</td>\n",
        "      <td>                   (343.109375, 2267.109375, None)</td>\n",
        "    </tr>\n",
        "    <tr>\n",
        "      <th>1</th>\n",
        "      <td>                Airborne</td>\n",
        "      <td>      FlightPhaseNode</td>\n",
        "      <td>                             (356.5, 2255.5, None)</td>\n",
        "    </tr>\n",
        "    <tr>\n",
        "      <th>2</th>\n",
        "      <td>                Grounded</td>\n",
        "      <td>      FlightPhaseNode</td>\n",
        "      <td>           (0, 356.0, None) (2255.0, 2560.0, None)</td>\n",
        "    </tr>\n",
        "    <tr>\n",
        "      <th>3</th>\n",
        "      <td> DistanceTravelledInAirX</td>\n",
        "      <td> DerivedParameterNode</td>\n",
        "      <td> DistanceTravelledInAirX('Distance Travelled In...</td>\n",
        "    </tr>\n",
        "  </tbody>\n",
        "</table>\n",
        "</div>"
       ],
       "metadata": {},
       "output_type": "pyout",
       "prompt_number": 91,
       "text": [
        "                      name             node_type                                                val\n",
        "0                     Fast       FlightPhaseNode                    (343.109375, 2267.109375, None)\n",
        "1                 Airborne       FlightPhaseNode                              (356.5, 2255.5, None)\n",
        "2                 Grounded       FlightPhaseNode            (0, 356.0, None) (2255.0, 2560.0, None)\n",
        "3  DistanceTravelledInAirX  DerivedParameterNode  DistanceTravelledInAirX('Distance Travelled In..."
       ]
      }
     ],
     "prompt_number": 91
    },
    {
     "cell_type": "code",
     "collapsed": false,
     "input": [
      "nb.hdf_plot(aspd, xlim=(0,2800))"
     ],
     "language": "python",
     "metadata": {},
     "outputs": [
      {
       "metadata": {},
       "output_type": "display_data",
       "png": "[encoded data removed]",
       "text": [
        "<matplotlib.figure.Figure at 0xb103f60>"
       ]
      }
     ],
     "prompt_number": 92
    },
    {
     "cell_type": "code",
     "collapsed": false,
     "input": [
      "nb.hdf_plot(par_adist['DistanceTravelledInAirX'], xlim=(0,2800), style='r')"
     ],
     "language": "python",
     "metadata": {},
     "outputs": [
      {
       "metadata": {},
       "output_type": "display_data",
       "png": "[encoded data removed]",
       "text": [
        "<matplotlib.figure.Figure at 0xb1bfcf8>"
       ]
      }
     ],
     "prompt_number": 93
    },
    {
     "cell_type": "markdown",
     "metadata": {},
     "source": [
      "##Build the graph of calculations and order of calculation  <a id=\"Graph\"></a> (<a href=\"#Home\">Home</a>)"
     ]
    },
    {
     "cell_type": "code",
     "collapsed": false,
     "input": [
      "# get the set of measures we'll compute. = the classes we defined above\n",
      "requested_nodes = nb.get_profile_nodes(vars())\n",
      "# old required_params = sorted(derived_nodes.keys())\n",
      "requested_nodes"
     ],
     "language": "python",
     "metadata": {},
     "outputs": [
      {
       "metadata": {},
       "output_type": "pyout",
       "prompt_number": 94,
       "text": [
        "{'AirspeedFirstFlapDescent': __main__.AirspeedFirstFlapDescent,\n",
        " 'DistanceTravelledInAirX': __main__.DistanceTravelledInAirX,\n",
        " 'FileAttribute': __main__.FileAttribute,\n",
        " 'InitialApproach': __main__.InitialApproach,\n",
        " 'MydictAttribute': __main__.MydictAttribute,\n",
        " 'SimpleAttribute': __main__.SimpleAttribute,\n",
        " 'SimpleKPV': __main__.SimpleKPV,\n",
        " 'SimpleKTI': __main__.SimpleKTI,\n",
        " 'SimplerKPV': __main__.SimplerKPV,\n",
        " 'SimplerKTI': __main__.SimplerKTI,\n",
        " 'TCASRAStart': __main__.TCASRAStart,\n",
        " 'aspd_class': analysis_engine.derived_parameters.AirspeedTrue}"
       ]
      }
     ],
     "prompt_number": 94
    },
    {
     "cell_type": "code",
     "collapsed": false,
     "input": [
      "node_mgr=nb.get_profile_nodemanager(flt, vars())\n",
      "node_mgr.operational('SimpleKPV', ['Start Datetime'])  #but how to build the list of arg2?"
     ],
     "language": "python",
     "metadata": {},
     "outputs": [
      {
       "metadata": {},
       "output_type": "pyout",
       "prompt_number": 95,
       "text": [
        "True"
       ]
      }
     ],
     "prompt_number": 95
    },
    {
     "cell_type": "code",
     "collapsed": false,
     "input": [
      "# get the order in which we will compute the nodes\n",
      "process_order, graph = helper.dependency_order(node_mgr, draw=False)\n",
      "process_order[:100]"
     ],
     "language": "python",
     "metadata": {},
     "outputs": [
      {
       "output_type": "stream",
       "stream": "stderr",
       "text": [
        "Found 229 dependencies which don't exist in LFL nor Node modules.\n"
       ]
      },
      {
       "output_type": "stream",
       "stream": "stderr",
       "text": [
        "Found 229 dependencies which don't exist in LFL nor Node modules.\n"
       ]
      },
      {
       "output_type": "stream",
       "stream": "stderr",
       "text": [
        "Found 1 inoperable required parameters.\n"
       ]
      },
      {
       "output_type": "stream",
       "stream": "stderr",
       "text": [
        "Found 1 inoperable required parameters.\n"
       ]
      },
      {
       "metadata": {},
       "output_type": "pyout",
       "prompt_number": 96,
       "text": [
        "['Altitude AAL For Flight Phases',\n",
        " 'Final Approach',\n",
        " 'Heading Continuous',\n",
        " 'Airspeed For Flight Phases',\n",
        " 'Fast',\n",
        " 'Landing',\n",
        " 'Descent Low Climb',\n",
        " 'Altitude Radio',\n",
        " 'Go Around',\n",
        " 'Approach And Landing',\n",
        " 'Approach',\n",
        " 'InitialApproach',\n",
        " 'Start Datetime',\n",
        " 'SimpleKTI',\n",
        " 'SimpleKPV',\n",
        " 'TAT',\n",
        " 'Acceleration Forwards',\n",
        " 'Groundspeed',\n",
        " 'Airspeed',\n",
        " 'Altitude STD',\n",
        " 'Takeoff',\n",
        " 'aspd_class',\n",
        " 'Airspeed True',\n",
        " 'Airborne',\n",
        " 'Grounded',\n",
        " 'DistanceTravelledInAirX',\n",
        " 'Mydict',\n",
        " 'MydictAttribute',\n",
        " 'SimplerKTI',\n",
        " 'SimplerKPV',\n",
        " 'Flap Surface',\n",
        " 'Altitude STD Smoothed',\n",
        " 'Climb Cruise Descent',\n",
        " 'Top Of Descent',\n",
        " 'Bottom Of Descent',\n",
        " 'Descent',\n",
        " 'AirspeedFirstFlapDescent',\n",
        " 'Myfile',\n",
        " 'FileAttribute',\n",
        " 'SimpleAttribute']"
       ]
      }
     ],
     "prompt_number": 96
    },
    {
     "cell_type": "markdown",
     "metadata": {},
     "source": [
      "Look at dependency graph"
     ]
    },
    {
     "cell_type": "code",
     "collapsed": false,
     "input": [
      "nb.show_graph(graph, font_size=10)"
     ],
     "language": "python",
     "metadata": {},
     "outputs": [
      {
       "output_type": "stream",
       "stream": "stdout",
       "text": [
        "hmm, apparently bogus exception\n"
       ]
      },
      {
       "metadata": {},
       "output_type": "display_data",
       "png": "[encoded data removed]",
       "text": [
        "<matplotlib.figure.Figure at 0xb1e6898>"
       ]
      }
     ],
     "prompt_number": 97
    },
    {
     "cell_type": "markdown",
     "metadata": {},
     "source": [
      "###Single Node Dependency"
     ]
    },
    {
     "cell_type": "markdown",
     "metadata": {},
     "source": [
      "Look at pre-requisites for some nodes"
     ]
    },
    {
     "cell_type": "code",
     "collapsed": false,
     "input": [
      "param_name = 'DistanceTravelledInAirX' #'SimpleKTI'\n",
      "node_class = node_mgr.derived_nodes[param_name]\n",
      "print param_name, '    pre-req:', node_class.get_dependency_names()"
     ],
     "language": "python",
     "metadata": {},
     "outputs": [
      {
       "output_type": "stream",
       "stream": "stdout",
       "text": [
        "DistanceTravelledInAirX     pre-req: ['Airspeed True', 'Grounded']\n"
       ]
      }
     ],
     "prompt_number": 98
    },
    {
     "cell_type": "code",
     "collapsed": false,
     "input": [
      "param_name = 'Airborne'\n",
      "node_class = node_mgr.derived_nodes[param_name]\n",
      "print param_name, '    pre-req:', node_class.get_dependency_names()"
     ],
     "language": "python",
     "metadata": {},
     "outputs": [
      {
       "output_type": "stream",
       "stream": "stdout",
       "text": [
        "Airborne     pre-req: ['Altitude AAL For Flight Phases', 'Fast']\n"
       ]
      }
     ],
     "prompt_number": 99
    },
    {
     "cell_type": "code",
     "collapsed": false,
     "input": [
      "nb.single_graph(DistanceTravelledInAirX, flt)"
     ],
     "language": "python",
     "metadata": {},
     "outputs": [
      {
       "output_type": "stream",
       "stream": "stderr",
       "text": [
        "Found 229 dependencies which don't exist in LFL nor Node modules.\n"
       ]
      },
      {
       "output_type": "stream",
       "stream": "stderr",
       "text": [
        "Found 229 dependencies which don't exist in LFL nor Node modules.\n"
       ]
      },
      {
       "output_type": "stream",
       "stream": "stdout",
       "text": [
        "hmm, apparently bogus exception\n"
       ]
      },
      {
       "metadata": {},
       "output_type": "display_data",
       "png": "[encoded data removed]",
       "text": [
        "<matplotlib.figure.Figure at 0xb10a240>"
       ]
      }
     ],
     "prompt_number": 100
    },
    {
     "cell_type": "markdown",
     "metadata": {},
     "source": [
      "## Entire Profile Test Output <a id=\"Output\"></a> (<a href=\"#Home\">Home</a>)"
     ]
    },
    {
     "cell_type": "code",
     "collapsed": false,
     "input": [
      "res, par = nb.derive_many(flt, vars())  # vars() is a dict of objects in the current namespace"
     ],
     "language": "python",
     "metadata": {},
     "outputs": [
      {
       "output_type": "stream",
       "stream": "stderr",
       "text": [
        "Found 229 dependencies which don't exist in LFL nor Node modules.\n"
       ]
      },
      {
       "output_type": "stream",
       "stream": "stderr",
       "text": [
        "Found 229 dependencies which don't exist in LFL nor Node modules.\n"
       ]
      },
      {
       "output_type": "stream",
       "stream": "stderr",
       "text": [
        "Found 1 inoperable required parameters.\n"
       ]
      },
      {
       "output_type": "stream",
       "stream": "stderr",
       "text": [
        "Found 1 inoperable required parameters.\n"
       ]
      },
      {
       "output_type": "stream",
       "stream": "stdout",
       "text": [
        "in a flap slice 2111 178.0\n"
       ]
      }
     ],
     "prompt_number": 101
    },
    {
     "cell_type": "code",
     "collapsed": false,
     "input": [
      "res['kti']"
     ],
     "language": "python",
     "metadata": {},
     "outputs": [
      {
       "metadata": {},
       "output_type": "pyout",
       "prompt_number": 102,
       "text": [
        "[KeyTimeInstance(index=3.0, name='Simple Kti', datetime=None, latitude=None, longitude=None),\n",
        " KeyTimeInstance(index=700.0, name='My Simpler KTI', datetime=None, latitude=None, longitude=None),\n",
        " KeyTimeInstance(index=1241.5, name='Top Of Descent', datetime=None, latitude=None, longitude=None),\n",
        " KeyTimeInstance(index=2255.5, name='Bottom Of Descent', datetime=None, latitude=None, longitude=None)]"
       ]
      }
     ],
     "prompt_number": 102
    },
    {
     "cell_type": "code",
     "collapsed": false,
     "input": [
      "par.keys()  #list the nodes we just computed"
     ],
     "language": "python",
     "metadata": {},
     "outputs": [
      {
       "metadata": {},
       "output_type": "pyout",
       "prompt_number": 103,
       "text": [
        "['Fast',\n",
        " 'node_class',\n",
        " 'SimpleKTI',\n",
        " 'SimpleKPV',\n",
        " 'Landing',\n",
        " 'Takeoff',\n",
        " 'aspd_class',\n",
        " 'Airborne',\n",
        " 'Grounded',\n",
        " 'DistanceTravelledInAirX',\n",
        " 'MydictAttribute',\n",
        " 'SimplerKTI',\n",
        " 'SimplerKPV',\n",
        " 'Final Approach',\n",
        " 'Descent Low Climb',\n",
        " 'Go Around',\n",
        " 'Approach And Landing',\n",
        " 'Approach',\n",
        " 'InitialApproach',\n",
        " 'Climb Cruise Descent',\n",
        " 'Top Of Descent',\n",
        " 'Bottom Of Descent',\n",
        " 'Descent',\n",
        " 'AirspeedFirstFlapDescent',\n",
        " 'SimpleAttribute',\n",
        " 'FileAttribute']"
       ]
      }
     ],
     "prompt_number": 103
    },
    {
     "cell_type": "code",
     "collapsed": false,
     "input": [
      "fast=par['Fast']\n",
      "fast.get_slices()"
     ],
     "language": "python",
     "metadata": {},
     "outputs": [
      {
       "metadata": {},
       "output_type": "pyout",
       "prompt_number": 104,
       "text": [
        "[slice(343.109375, 2267.109375, None)]"
       ]
      }
     ],
     "prompt_number": 104
    },
    {
     "cell_type": "code",
     "collapsed": false,
     "input": [
      "nb.derived_table(par)"
     ],
     "language": "python",
     "metadata": {},
     "outputs": [
      {
       "html": [
        "<div style=\"max-height:1000px;max-width:1500px;overflow:auto;\">\n",
        "<table border=\"1\" class=\"dataframe\">\n",
        "  <thead>\n",
        "    <tr style=\"text-align: right;\">\n",
        "      <th></th>\n",
        "      <th>name</th>\n",
        "      <th>node_type</th>\n",
        "      <th>val</th>\n",
        "    </tr>\n",
        "  </thead>\n",
        "  <tbody>\n",
        "    <tr>\n",
        "      <th>0 </th>\n",
        "      <td>                     Fast</td>\n",
        "      <td>      FlightPhaseNode</td>\n",
        "      <td>                   (343.109375, 2267.109375, None)</td>\n",
        "    </tr>\n",
        "    <tr>\n",
        "      <th>1 </th>\n",
        "      <td>               node_class</td>\n",
        "      <td>      FlightPhaseNode</td>\n",
        "      <td>                             (356.5, 2255.5, None)</td>\n",
        "    </tr>\n",
        "    <tr>\n",
        "      <th>2 </th>\n",
        "      <td>                SimpleKTI</td>\n",
        "      <td>  KeyTimeInstanceNode</td>\n",
        "      <td>               [[3, Simple Kti, None, None, None]]</td>\n",
        "    </tr>\n",
        "    <tr>\n",
        "      <th>3 </th>\n",
        "      <td>                SimpleKPV</td>\n",
        "      <td>    KeyPointValueNode</td>\n",
        "      <td> [[3.0, 999.9, Simple Kpv, slice(None, None, No...</td>\n",
        "    </tr>\n",
        "    <tr>\n",
        "      <th>4 </th>\n",
        "      <td>                  Landing</td>\n",
        "      <td>      FlightPhaseNode</td>\n",
        "      <td>     (2247.424033736791, 2318.8764204545455, None)</td>\n",
        "    </tr>\n",
        "    <tr>\n",
        "      <th>5 </th>\n",
        "      <td>                  Takeoff</td>\n",
        "      <td>      FlightPhaseNode</td>\n",
        "      <td>    (320.08854166666669, 360.57771664540326, None)</td>\n",
        "    </tr>\n",
        "    <tr>\n",
        "      <th>6 </th>\n",
        "      <td>               aspd_class</td>\n",
        "      <td> DerivedParameterNode</td>\n",
        "      <td>      AirspeedTrue('Airspeed True', 1.0, 0.109375)</td>\n",
        "    </tr>\n",
        "    <tr>\n",
        "      <th>7 </th>\n",
        "      <td>                 Airborne</td>\n",
        "      <td>      FlightPhaseNode</td>\n",
        "      <td>                             (356.5, 2255.5, None)</td>\n",
        "    </tr>\n",
        "    <tr>\n",
        "      <th>8 </th>\n",
        "      <td>                 Grounded</td>\n",
        "      <td>      FlightPhaseNode</td>\n",
        "      <td>           (0, 356.0, None) (2255.0, 2560.0, None)</td>\n",
        "    </tr>\n",
        "    <tr>\n",
        "      <th>9 </th>\n",
        "      <td>  DistanceTravelledInAirX</td>\n",
        "      <td> DerivedParameterNode</td>\n",
        "      <td> DistanceTravelledInAirX('Distance Travelled In...</td>\n",
        "    </tr>\n",
        "    <tr>\n",
        "      <th>10</th>\n",
        "      <td>          MydictAttribute</td>\n",
        "      <td>  FlightAttributeNode</td>\n",
        "      <td>       Attribute('Mydict', {'testkey': [1, 2, 3]})</td>\n",
        "    </tr>\n",
        "    <tr>\n",
        "      <th>11</th>\n",
        "      <td>               SimplerKTI</td>\n",
        "      <td>  KeyTimeInstanceNode</td>\n",
        "      <td>       [[700.0, My Simpler KTI, None, None, None]]</td>\n",
        "    </tr>\n",
        "    <tr>\n",
        "      <th>12</th>\n",
        "      <td>               SimplerKPV</td>\n",
        "      <td>    KeyPointValueNode</td>\n",
        "      <td> [[42.5, 666.6, My Simpler KPV, slice(None, Non...</td>\n",
        "    </tr>\n",
        "    <tr>\n",
        "      <th>13</th>\n",
        "      <td>           Final Approach</td>\n",
        "      <td>      FlightPhaseNode</td>\n",
        "      <td>                            (2170.5, 2247.5, None)</td>\n",
        "    </tr>\n",
        "    <tr>\n",
        "      <th>14</th>\n",
        "      <td>        Descent Low Climb</td>\n",
        "      <td>      FlightPhaseNode</td>\n",
        "      <td>                                                []</td>\n",
        "    </tr>\n",
        "    <tr>\n",
        "      <th>15</th>\n",
        "      <td>                Go Around</td>\n",
        "      <td>  KeyTimeInstanceNode</td>\n",
        "      <td>                                                []</td>\n",
        "    </tr>\n",
        "    <tr>\n",
        "      <th>16</th>\n",
        "      <td>     Approach And Landing</td>\n",
        "      <td>      FlightPhaseNode</td>\n",
        "      <td>                            (2036.0, 2319.0, None)</td>\n",
        "    </tr>\n",
        "    <tr>\n",
        "      <th>17</th>\n",
        "      <td>                 Approach</td>\n",
        "      <td>      FlightPhaseNode</td>\n",
        "      <td>                            (2036.0, 2248.0, None)</td>\n",
        "    </tr>\n",
        "    <tr>\n",
        "      <th>18</th>\n",
        "      <td>          InitialApproach</td>\n",
        "      <td>      FlightPhaseNode</td>\n",
        "      <td>                            (2036.0, 2170.5, None)</td>\n",
        "    </tr>\n",
        "    <tr>\n",
        "      <th>19</th>\n",
        "      <td>     Climb Cruise Descent</td>\n",
        "      <td>      FlightPhaseNode</td>\n",
        "      <td>                             (356.5, 2254.5, None)</td>\n",
        "    </tr>\n",
        "    <tr>\n",
        "      <th>20</th>\n",
        "      <td>           Top Of Descent</td>\n",
        "      <td>  KeyTimeInstanceNode</td>\n",
        "      <td>        [[1241, Top Of Descent, None, None, None]]</td>\n",
        "    </tr>\n",
        "    <tr>\n",
        "      <th>21</th>\n",
        "      <td>        Bottom Of Descent</td>\n",
        "      <td>  KeyTimeInstanceNode</td>\n",
        "      <td>   [[2255.0, Bottom Of Descent, None, None, None]]</td>\n",
        "    </tr>\n",
        "    <tr>\n",
        "      <th>22</th>\n",
        "      <td>                  Descent</td>\n",
        "      <td>      FlightPhaseNode</td>\n",
        "      <td>                            (1241.5, 2255.5, None)</td>\n",
        "    </tr>\n",
        "    <tr>\n",
        "      <th>23</th>\n",
        "      <td> AirspeedFirstFlapDescent</td>\n",
        "      <td>    KeyPointValueNode</td>\n",
        "      <td> [[2111, 178.0, Airspeed At First Flap Descent,...</td>\n",
        "    </tr>\n",
        "    <tr>\n",
        "      <th>24</th>\n",
        "      <td>          SimpleAttribute</td>\n",
        "      <td>  FlightAttributeNode</td>\n",
        "      <td>                                             Keith</td>\n",
        "    </tr>\n",
        "    <tr>\n",
        "      <th>25</th>\n",
        "      <td>            FileAttribute</td>\n",
        "      <td>  FlightAttributeNode</td>\n",
        "      <td> Attribute('Myfile', 'c:/asias_fds/base_data/sp...</td>\n",
        "    </tr>\n",
        "  </tbody>\n",
        "</table>\n",
        "</div>"
       ],
       "metadata": {},
       "output_type": "pyout",
       "prompt_number": 105,
       "text": [
        "                        name             node_type                                                val\n",
        "0                       Fast       FlightPhaseNode                    (343.109375, 2267.109375, None)\n",
        "1                 node_class       FlightPhaseNode                              (356.5, 2255.5, None)\n",
        "2                  SimpleKTI   KeyTimeInstanceNode                [[3, Simple Kti, None, None, None]]\n",
        "3                  SimpleKPV     KeyPointValueNode  [[3.0, 999.9, Simple Kpv, slice(None, None, No...\n",
        "4                    Landing       FlightPhaseNode      (2247.424033736791, 2318.8764204545455, None)\n",
        "5                    Takeoff       FlightPhaseNode     (320.08854166666669, 360.57771664540326, None)\n",
        "6                 aspd_class  DerivedParameterNode       AirspeedTrue('Airspeed True', 1.0, 0.109375)\n",
        "7                   Airborne       FlightPhaseNode                              (356.5, 2255.5, None)\n",
        "8                   Grounded       FlightPhaseNode            (0, 356.0, None) (2255.0, 2560.0, None)\n",
        "9    DistanceTravelledInAirX  DerivedParameterNode  DistanceTravelledInAirX('Distance Travelled In...\n",
        "10           MydictAttribute   FlightAttributeNode        Attribute('Mydict', {'testkey': [1, 2, 3]})\n",
        "11                SimplerKTI   KeyTimeInstanceNode        [[700.0, My Simpler KTI, None, None, None]]\n",
        "12                SimplerKPV     KeyPointValueNode  [[42.5, 666.6, My Simpler KPV, slice(None, Non...\n",
        "13            Final Approach       FlightPhaseNode                             (2170.5, 2247.5, None)\n",
        "14         Descent Low Climb       FlightPhaseNode                                                 []\n",
        "15                 Go Around   KeyTimeInstanceNode                                                 []\n",
        "16      Approach And Landing       FlightPhaseNode                             (2036.0, 2319.0, None)\n",
        "17                  Approach       FlightPhaseNode                             (2036.0, 2248.0, None)\n",
        "18           InitialApproach       FlightPhaseNode                             (2036.0, 2170.5, None)\n",
        "19      Climb Cruise Descent       FlightPhaseNode                              (356.5, 2254.5, None)\n",
        "20            Top Of Descent   KeyTimeInstanceNode         [[1241, Top Of Descent, None, None, None]]\n",
        "21         Bottom Of Descent   KeyTimeInstanceNode    [[2255.0, Bottom Of Descent, None, None, None]]\n",
        "22                   Descent       FlightPhaseNode                             (1241.5, 2255.5, None)\n",
        "23  AirspeedFirstFlapDescent     KeyPointValueNode  [[2111, 178.0, Airspeed At First Flap Descent,...\n",
        "24           SimpleAttribute   FlightAttributeNode                                              Keith\n",
        "25             FileAttribute   FlightAttributeNode  Attribute('Myfile', 'c:/asias_fds/base_data/sp..."
       ]
      }
     ],
     "prompt_number": 105
    },
    {
     "cell_type": "markdown",
     "metadata": {},
     "source": [
      "We can pass in pre-computed parameters to cut down on computation and simplify testing."
     ]
    },
    {
     "cell_type": "code",
     "collapsed": false,
     "input": [
      "del par['DistanceTravelledInAirX'] #delete just this parameter, then recompute"
     ],
     "language": "python",
     "metadata": {},
     "outputs": [],
     "prompt_number": 106
    },
    {
     "cell_type": "code",
     "collapsed": false,
     "input": [
      "res2,par2 = nb.derive_many(flt, vars(), par)"
     ],
     "language": "python",
     "metadata": {},
     "outputs": [
      {
       "output_type": "stream",
       "stream": "stderr",
       "text": [
        "Found 229 dependencies which don't exist in LFL nor Node modules.\n"
       ]
      },
      {
       "output_type": "stream",
       "stream": "stderr",
       "text": [
        "Found 229 dependencies which don't exist in LFL nor Node modules.\n"
       ]
      },
      {
       "output_type": "stream",
       "stream": "stderr",
       "text": [
        "Found 1 inoperable required parameters.\n"
       ]
      },
      {
       "output_type": "stream",
       "stream": "stderr",
       "text": [
        "Found 1 inoperable required parameters.\n"
       ]
      },
      {
       "output_type": "stream",
       "stream": "stdout",
       "text": [
        "in a flap slice 2111 178.0\n"
       ]
      }
     ],
     "prompt_number": 107
    },
    {
     "cell_type": "code",
     "collapsed": false,
     "input": [
      "res2['series']"
     ],
     "language": "python",
     "metadata": {},
     "outputs": [
      {
       "metadata": {},
       "output_type": "pyout",
       "prompt_number": 108,
       "text": [
        "{'DistanceTravelledInAirX': DistanceTravelledInAirX('Distance Travelled In Air X', 1.0, 0.109375),\n",
        " 'aspd_class': AirspeedTrue('Airspeed True', 1.0, 0.109375)}"
       ]
      }
     ],
     "prompt_number": 108
    },
    {
     "cell_type": "code",
     "collapsed": false,
     "input": [
      "nb.hdf_plot(res2['series']['aspd_class'], style='r')"
     ],
     "language": "python",
     "metadata": {},
     "outputs": [
      {
       "metadata": {},
       "output_type": "display_data",
       "png": "[encoded data removed]",
       "text": [
        "<matplotlib.figure.Figure at 0xb154668>"
       ]
      }
     ],
     "prompt_number": 109
    },
    {
     "cell_type": "markdown",
     "metadata": {},
     "source": [
      "###To do: \n",
      "\n",
      "- Add jerk (derivitive of acceleration normal)\n",
      "\n",
      "- Add nose tests.\n",
      "\n",
      "- Export .py version with just relevant objects\n",
      "\n",
      "- Apply to FFD with core params\n",
      "\n",
      "- LFL browsing\n",
      "\n",
      "- Aggregate results."
     ]
    },
    {
     "cell_type": "markdown",
     "metadata": {},
     "source": [
      "*Run the line below to generate an HTML version of this notebook.*"
     ]
    },
    {
     "cell_type": "code",
     "collapsed": false,
     "input": [
      "!ipython nbconvert profile_nb.ipynb"
     ],
     "language": "python",
     "metadata": {},
     "outputs": [
      {
       "output_type": "stream",
       "stream": "stderr",
       "text": [
        "[NbConvertApp] Using existing profile dir: u'C:\\\\Users\\\\keithc\\\\.ipython\\\\profile_default'\n",
        "[NbConvertApp] Converting notebook profile_nb.ipynb to html\n",
        "[NbConvertApp] Support files will be in profile_nb_files\\\n",
        "[NbConvertApp] Loaded template html_full.tpl\n",
        "[NbConvertApp] Writing 637143 bytes to profile_nb.html\n"
       ]
      }
     ],
     "prompt_number": 110
    },
    {
     "cell_type": "code",
     "collapsed": false,
     "input": [],
     "language": "python",
     "metadata": {},
     "outputs": [],
     "prompt_number": 187
    }
   ],
   "metadata": {}
  }
 ]
}