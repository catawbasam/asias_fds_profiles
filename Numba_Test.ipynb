{
 "metadata": {
  "name": ""
 },
 "nbformat": 3,
 "nbformat_minor": 0,
 "worksheets": [
  {
   "cells": [
    {
     "cell_type": "markdown",
     "metadata": {},
     "source": [
      "#<a id=\"Home\"></a>Numba Test -- align, repair, interpolate</a>\n",
      "<b style=\"color:red;\">WARNING: Notebooks containing flight data may be published to github ONLY when using the FDS specimen flight!</b>"
     ]
    },
    {
     "cell_type": "markdown",
     "metadata": {},
     "source": [
      "**Contents:**   <a href=\"#Config\">Select Flights</a> \n",
      "| <a href=\"#Browse\">Browse Flight</a> \n",
      "| <a href=\"#FDSNodes\">Browse FDS Nodes</a> \n",
      "| <a href=\"#Attributes\">Check mask clumps</a> "
     ]
    },
    {
     "cell_type": "markdown",
     "metadata": {},
     "source": [
      "### Base analysis is slow.\n",
      "\n",
      "#### Culprits: \n",
      "\n",
      "* align/repair_mask/interpolate  node.py DerivedParameterNode.get_aligned(self,param)  library.py align()\n",
      "\n",
      "* api calls airport and runway\n",
      "\n",
      "* windowing derived parameters eg eng gas temp, eng oil temp\n",
      "\n",
      "#### Speed up strategies\n",
      "\n",
      "* limit alignment to a section. e.g. ils to approaches\n",
      "    -- master is masked through much of flight and we limit work to a central unmasked window?\n",
      "\n",
      "* numba for loops, numexpr for complex expressions, bottleneck for windowing\n",
      "\n",
      "* local API calls to in-memory apt/rwy db\n"
     ]
    },
    {
     "cell_type": "code",
     "collapsed": false,
     "input": [
      "nb.timestamp()"
     ],
     "language": "python",
     "metadata": {},
     "outputs": [
      {
       "metadata": {},
       "output_type": "pyout",
       "prompt_number": 4,
       "text": [
        "'2013/09/23 15:44'"
       ]
      }
     ],
     "prompt_number": 4
    },
    {
     "cell_type": "code",
     "collapsed": false,
     "input": [
      "%matplotlib inline                              \n",
      "pylab.rcParams['figure.figsize'] = (10.0, 4.0)  # size of plots (width, height)\n",
      "logger = nb.initialize_logger('WARNING', filename='log_messages.txt') #ERROR',WARNING,INFO,DEBUG\n",
      "from IPython.core.display import HTML  #  HTML('<tag>adfas</tag>'>\n",
      "pd.options.display.max_rows=500 #line_width=130\n",
      "pd.options.display.width=130 #line_width=130"
     ],
     "language": "python",
     "metadata": {},
     "outputs": [],
     "prompt_number": 5
    },
    {
     "cell_type": "markdown",
     "metadata": {},
     "source": [
      "## Select test flights <a id=\"Config\"></a> (<a href=\"#Home\">Home</a>)"
     ]
    },
    {
     "cell_type": "markdown",
     "metadata": {},
     "source": [
      "You can use a pre-defined flight set, or create your own.  'flight_sets.*function*??', e.g. flight_sets.test10?? will list the source code for the flights function, providing examples of how to set up your own sets."
     ]
    },
    {
     "cell_type": "code",
     "collapsed": false,
     "input": [
      "reload(flight_sets)\n",
      "# pre-defined options:\n",
      "nb.module_functions(flight_sets)  "
     ],
     "language": "python",
     "metadata": {},
     "outputs": [
      {
       "metadata": {},
       "output_type": "pyout",
       "prompt_number": 6,
       "text": [
        "['ffd897',\n",
        " 'fll_local',\n",
        " 'specimen_flight',\n",
        " 'test10',\n",
        " 'test10_shared',\n",
        " 'test_sql_jfk',\n",
        " 'test_sql_jfk_local',\n",
        " 'tiny_test']"
       ]
      }
     ],
     "prompt_number": 6
    },
    {
     "cell_type": "markdown",
     "metadata": {},
     "source": [
      "** >>>> Pick a pre-defined function to specify test flights, or define your own    >>>>>>** "
     ]
    },
    {
     "cell_type": "code",
     "collapsed": false,
     "input": [
      "TEST_FLIGHT_SET = flight_sets.tiny_test   #Use tab completion 'fs.<tab>' to pick aflight set."
     ],
     "language": "python",
     "metadata": {},
     "outputs": [],
     "prompt_number": 7
    },
    {
     "cell_type": "code",
     "collapsed": false,
     "input": [
      "flight_set = apply(TEST_FLIGHT_SET)           #calls the function, returns a list of filepaths\n",
      "#len(flight_set) # number of flights in the set"
     ],
     "language": "python",
     "metadata": {},
     "outputs": [
      {
       "output_type": "stream",
       "stream": "stdout",
       "text": [
        "/devel/asias/foqa_evolution/asias_fds/base_data/tiny_test/\n"
       ]
      }
     ],
     "prompt_number": 8
    },
    {
     "cell_type": "code",
     "collapsed": false,
     "input": [
      "[flt['filepath'] for flt in flight_set] # list the files in this test set"
     ],
     "language": "python",
     "metadata": {},
     "outputs": [
      {
       "metadata": {},
       "output_type": "pyout",
       "prompt_number": 9,
       "text": [
        "['/devel/asias/foqa_evolution/asias_fds/base_data/tiny_test/N516JB_REC04489_DAT_001_cleansed_base.hdf5',\n",
        " '/devel/asias/foqa_evolution/asias_fds/base_data/tiny_test/N523JB_REC03762_DAT_001_cleansed_base.hdf5',\n",
        " '/devel/asias/foqa_evolution/asias_fds/base_data/tiny_test/N516JB_REC04457_DAT_001_cleansed_base.hdf5']"
       ]
      }
     ],
     "prompt_number": 9
    },
    {
     "cell_type": "code",
     "collapsed": false,
     "input": [
      "test_flight=flight_set[0]  \n",
      "test_flight"
     ],
     "language": "python",
     "metadata": {},
     "outputs": [
      {
       "metadata": {},
       "output_type": "pyout",
       "prompt_number": 10,
       "text": [
        "{'aircraft_info': {'Family': 'A320',\n",
        "  'Frame': 'A320_SFIM_ED45_CFM',\n",
        "  'Frame Doubled': False,\n",
        "  'Manufacturer': 'Airbus',\n",
        "  'Precise Positioning': True,\n",
        "  'Series': 'A320-200'},\n",
        " 'filepath': '/devel/asias/foqa_evolution/asias_fds/base_data/tiny_test/N516JB_REC04489_DAT_001_cleansed_base.hdf5',\n",
        " 'repo': 'local'}"
       ]
      }
     ],
     "prompt_number": 10
    },
    {
     "cell_type": "markdown",
     "metadata": {},
     "source": [
      "Load test flight data into an object of class Flight and have a look:"
     ]
    },
    {
     "cell_type": "code",
     "collapsed": false,
     "input": [
      "reload(helper)\n",
      "flt = helper.Flight()   \n",
      "flt.load_from_hdf5(test_flight)\n",
      "flt"
     ],
     "language": "python",
     "metadata": {},
     "outputs": [
      {
       "output_type": "stream",
       "stream": "stdout",
       "text": [
        "N516JB_REC04489_DAT_001_cleansed_base.hdf5\n"
       ]
      },
      {
       "metadata": {},
       "output_type": "pyout",
       "prompt_number": 11,
       "text": [
        "class Flight\n",
        "  filepath:       /devel/asias/foqa_evolution/asias_fds/base_data/tiny_test/N516JB_REC04489_DAT_001_cleansed_base.hdf5\n",
        "  duration:       22016.0\n",
        "  start_datetime: 2012-03-31 21:01:36\n",
        "  series:         [u'Track Selected', u'Wing Anti Ice', u'Elevator Aileron Computer (1) Fault']...\n",
        "  invalid_series: []...\n",
        "  aircraft_info:  {'Family': 'A320', 'Series': 'A320-200', 'Frame': 'A320_SFIM_ED45_CFM', 'Frame Doubled': False, 'Precise Positioning': True, 'Manufacturer': 'Airbus'}\n",
        "  parameter nodes:  [u'Track Selected', u'Wing Anti Ice', u'Elevator Aileron Computer (1) Fault']..."
       ]
      }
     ],
     "prompt_number": 11
    },
    {
     "cell_type": "markdown",
     "metadata": {},
     "source": [
      "#### Time series from hdf5"
     ]
    },
    {
     "cell_type": "code",
     "collapsed": false,
     "input": [
      "reload(nb)\n",
      "nb.search_hdf(flt, 'gear')  # use 'Gear On Ground'"
     ],
     "language": "python",
     "metadata": {},
     "outputs": [
      {
       "html": [
        "<div style=\"max-height:1000px;max-width:1500px;overflow:auto;\">\n",
        "<table border=\"1\" class=\"dataframe\">\n",
        "  <thead>\n",
        "    <tr style=\"text-align: right;\">\n",
        "      <th></th>\n",
        "      <th>FDS name</th>\n",
        "      <th>lfl_param</th>\n",
        "      <th>frequency</th>\n",
        "      <th>data_type</th>\n",
        "      <th>units</th>\n",
        "      <th>FDS values</th>\n",
        "    </tr>\n",
        "  </thead>\n",
        "  <tbody>\n",
        "    <tr>\n",
        "      <th>0</th>\n",
        "      <td>   Gear (N) On Ground</td>\n",
        "      <td>  True</td>\n",
        "      <td> 1.00</td>\n",
        "      <td>            Discrete</td>\n",
        "      <td> </td>\n",
        "      <td>             {0: 'Air', 1: 'Ground'}</td>\n",
        "    </tr>\n",
        "    <tr>\n",
        "      <th>1</th>\n",
        "      <td>   Gear Down Selected</td>\n",
        "      <td>  True</td>\n",
        "      <td> 0.25</td>\n",
        "      <td>            Discrete</td>\n",
        "      <td> </td>\n",
        "      <td>                {0: 'Up', 1: 'Down'}</td>\n",
        "    </tr>\n",
        "    <tr>\n",
        "      <th>2</th>\n",
        "      <td>            Gear Down</td>\n",
        "      <td> False</td>\n",
        "      <td> 0.25</td>\n",
        "      <td> Derived Multi-state</td>\n",
        "      <td> </td>\n",
        "      <td>                {0: 'Up', 1: 'Down'}</td>\n",
        "    </tr>\n",
        "    <tr>\n",
        "      <th>3</th>\n",
        "      <td>     Gear Up Selected</td>\n",
        "      <td>  True</td>\n",
        "      <td> 0.25</td>\n",
        "      <td>            Discrete</td>\n",
        "      <td> </td>\n",
        "      <td>                {0: 'Down', 1: 'Up'}</td>\n",
        "    </tr>\n",
        "    <tr>\n",
        "      <th>4</th>\n",
        "      <td>   Gear (R) On Ground</td>\n",
        "      <td>  True</td>\n",
        "      <td> 1.00</td>\n",
        "      <td>            Discrete</td>\n",
        "      <td> </td>\n",
        "      <td>                {0: 'Up', 1: 'Down'}</td>\n",
        "    </tr>\n",
        "    <tr>\n",
        "      <th>5</th>\n",
        "      <td> Gear Not Locked Down</td>\n",
        "      <td>  True</td>\n",
        "      <td> 1.00</td>\n",
        "      <td>            Discrete</td>\n",
        "      <td> </td>\n",
        "      <td> {0: 'Locked', 1: 'Not Locked Down'}</td>\n",
        "    </tr>\n",
        "    <tr>\n",
        "      <th>6</th>\n",
        "      <td>       Gear On Ground</td>\n",
        "      <td> False</td>\n",
        "      <td> 1.00</td>\n",
        "      <td> Derived Multi-state</td>\n",
        "      <td> </td>\n",
        "      <td>             {0: 'Air', 1: 'Ground'}</td>\n",
        "    </tr>\n",
        "    <tr>\n",
        "      <th>7</th>\n",
        "      <td>   Gear (L) On Ground</td>\n",
        "      <td>  True</td>\n",
        "      <td> 1.00</td>\n",
        "      <td>            Discrete</td>\n",
        "      <td> </td>\n",
        "      <td>                {0: 'Up', 1: 'Down'}</td>\n",
        "    </tr>\n",
        "  </tbody>\n",
        "</table>\n",
        "</div>"
       ],
       "metadata": {},
       "output_type": "pyout",
       "prompt_number": 12,
       "text": [
        "               FDS name lfl_param  frequency            data_type units                           FDS values\n",
        "0    Gear (N) On Ground      True       1.00             Discrete                    {0: 'Air', 1: 'Ground'}\n",
        "1    Gear Down Selected      True       0.25             Discrete                       {0: 'Up', 1: 'Down'}\n",
        "2             Gear Down     False       0.25  Derived Multi-state                       {0: 'Up', 1: 'Down'}\n",
        "3      Gear Up Selected      True       0.25             Discrete                       {0: 'Down', 1: 'Up'}\n",
        "4    Gear (R) On Ground      True       1.00             Discrete                       {0: 'Up', 1: 'Down'}\n",
        "5  Gear Not Locked Down      True       1.00             Discrete        {0: 'Locked', 1: 'Not Locked Down'}\n",
        "6        Gear On Ground     False       1.00  Derived Multi-state                    {0: 'Air', 1: 'Ground'}\n",
        "7    Gear (L) On Ground      True       1.00             Discrete                       {0: 'Up', 1: 'Down'}"
       ]
      }
     ],
     "prompt_number": 12
    },
    {
     "cell_type": "code",
     "collapsed": false,
     "input": [
      "nb.plot_hdf(flt.series['Gear On Ground'], ylim=(-0.1,1.1), style='r')"
     ],
     "language": "python",
     "metadata": {},
     "outputs": [
      {
       "metadata": {},
       "output_type": "display_data",
       "png": "[encoded data removed]",
       "text": [
        "<matplotlib.figure.Figure at 0x4159810>"
       ]
      }
     ],
     "prompt_number": 13
    },
    {
     "cell_type": "markdown",
     "metadata": {},
     "source": [
      "Timeframe for touchdown:"
     ]
    },
    {
     "cell_type": "code",
     "collapsed": false,
     "input": [
      "lo=21800; hi=21900  #x axis limits "
     ],
     "language": "python",
     "metadata": {},
     "outputs": [],
     "prompt_number": 14
    },
    {
     "cell_type": "code",
     "collapsed": false,
     "input": [
      "nb.search_hdf( flt, 'Accel') #use 'Acceleration Normal'"
     ],
     "language": "python",
     "metadata": {},
     "outputs": [
      {
       "html": [
        "<div style=\"max-height:1000px;max-width:1500px;overflow:auto;\">\n",
        "<table border=\"1\" class=\"dataframe\">\n",
        "  <thead>\n",
        "    <tr style=\"text-align: right;\">\n",
        "      <th></th>\n",
        "      <th>FDS name</th>\n",
        "      <th>lfl_param</th>\n",
        "      <th>frequency</th>\n",
        "      <th>data_type</th>\n",
        "      <th>units</th>\n",
        "      <th>FDS values</th>\n",
        "    </tr>\n",
        "  </thead>\n",
        "  <tbody>\n",
        "    <tr>\n",
        "      <th>0</th>\n",
        "      <td>            Acceleration Along Track</td>\n",
        "      <td> False</td>\n",
        "      <td> 8</td>\n",
        "      <td> Derived</td>\n",
        "      <td> g</td>\n",
        "      <td> n/a</td>\n",
        "    </tr>\n",
        "    <tr>\n",
        "      <th>1</th>\n",
        "      <td>               Acceleration Sideways</td>\n",
        "      <td> False</td>\n",
        "      <td> 8</td>\n",
        "      <td> Derived</td>\n",
        "      <td> g</td>\n",
        "      <td> n/a</td>\n",
        "    </tr>\n",
        "    <tr>\n",
        "      <th>2</th>\n",
        "      <td>           Acceleration Across Track</td>\n",
        "      <td> False</td>\n",
        "      <td> 8</td>\n",
        "      <td> Derived</td>\n",
        "      <td> g</td>\n",
        "      <td> n/a</td>\n",
        "    </tr>\n",
        "    <tr>\n",
        "      <th>3</th>\n",
        "      <td>                 Acceleration Normal</td>\n",
        "      <td>  True</td>\n",
        "      <td> 8</td>\n",
        "      <td>  Signed</td>\n",
        "      <td> g</td>\n",
        "      <td> n/a</td>\n",
        "    </tr>\n",
        "    <tr>\n",
        "      <th>4</th>\n",
        "      <td>           Acceleration Longitudinal</td>\n",
        "      <td>  True</td>\n",
        "      <td> 4</td>\n",
        "      <td>  Signed</td>\n",
        "      <td> g</td>\n",
        "      <td> n/a</td>\n",
        "    </tr>\n",
        "    <tr>\n",
        "      <th>5</th>\n",
        "      <td> Acceleration Lateral Offset Removed</td>\n",
        "      <td> False</td>\n",
        "      <td> 4</td>\n",
        "      <td> Derived</td>\n",
        "      <td> g</td>\n",
        "      <td> n/a</td>\n",
        "    </tr>\n",
        "    <tr>\n",
        "      <th>6</th>\n",
        "      <td>  Acceleration Normal Offset Removed</td>\n",
        "      <td> False</td>\n",
        "      <td> 8</td>\n",
        "      <td> Derived</td>\n",
        "      <td> g</td>\n",
        "      <td> n/a</td>\n",
        "    </tr>\n",
        "    <tr>\n",
        "      <th>7</th>\n",
        "      <td>               Acceleration Forwards</td>\n",
        "      <td> False</td>\n",
        "      <td> 8</td>\n",
        "      <td> Derived</td>\n",
        "      <td> g</td>\n",
        "      <td> n/a</td>\n",
        "    </tr>\n",
        "    <tr>\n",
        "      <th>8</th>\n",
        "      <td>                Acceleration Lateral</td>\n",
        "      <td>  True</td>\n",
        "      <td> 4</td>\n",
        "      <td>  Signed</td>\n",
        "      <td> g</td>\n",
        "      <td> n/a</td>\n",
        "    </tr>\n",
        "    <tr>\n",
        "      <th>9</th>\n",
        "      <td>               Acceleration Vertical</td>\n",
        "      <td> False</td>\n",
        "      <td> 8</td>\n",
        "      <td> Derived</td>\n",
        "      <td> g</td>\n",
        "      <td> n/a</td>\n",
        "    </tr>\n",
        "  </tbody>\n",
        "</table>\n",
        "</div>"
       ],
       "metadata": {},
       "output_type": "pyout",
       "prompt_number": 15,
       "text": [
        "                              FDS name lfl_param  frequency data_type units FDS values\n",
        "0             Acceleration Along Track     False          8   Derived     g        n/a\n",
        "1                Acceleration Sideways     False          8   Derived     g        n/a\n",
        "2            Acceleration Across Track     False          8   Derived     g        n/a\n",
        "3                  Acceleration Normal      True          8    Signed     g        n/a\n",
        "4            Acceleration Longitudinal      True          4    Signed     g        n/a\n",
        "5  Acceleration Lateral Offset Removed     False          4   Derived     g        n/a\n",
        "6   Acceleration Normal Offset Removed     False          8   Derived     g        n/a\n",
        "7                Acceleration Forwards     False          8   Derived     g        n/a\n",
        "8                 Acceleration Lateral      True          4    Signed     g        n/a\n",
        "9                Acceleration Vertical     False          8   Derived     g        n/a"
       ]
      }
     ],
     "prompt_number": 15
    },
    {
     "cell_type": "code",
     "collapsed": false,
     "input": [
      "nb.plot_hdf( flt.series['Acceleration Longitudinal'], xlim=(lo,hi));"
     ],
     "language": "python",
     "metadata": {},
     "outputs": [
      {
       "metadata": {},
       "output_type": "display_data",
       "png": "[encoded data removed]",
       "text": [
        "<matplotlib.figure.Figure at 0x426f690>"
       ]
      }
     ],
     "prompt_number": 16
    },
    {
     "cell_type": "markdown",
     "metadata": {},
     "source": [
      "## Check mask clumps  <a id=\"Attributes\"></a> (<a href=\"#Home\">Home</a>)"
     ]
    },
    {
     "cell_type": "code",
     "collapsed": false,
     "input": [
      "array = flt.series['Acceleration Longitudinal'].array\n",
      "masked_sections = np.ma.clump_masked(array)\n",
      "len(masked_sections)"
     ],
     "language": "python",
     "metadata": {},
     "outputs": [
      {
       "metadata": {},
       "output_type": "pyout",
       "prompt_number": 17,
       "text": [
        "2"
       ]
      }
     ],
     "prompt_number": 17
    },
    {
     "cell_type": "code",
     "collapsed": false,
     "input": [
      "for k in flt.series.keys():\n",
      "    masked_sections = np.ma.clump_masked(flt.series[k].array)\n",
      "    if len(masked_sections)>2:\n",
      "        print k, len(masked_sections)"
     ],
     "language": "python",
     "metadata": {},
     "outputs": [
      {
       "output_type": "stream",
       "stream": "stdout",
       "text": [
        "TAT 4\n",
        "DME (2) 3\n",
        "Brake (3) Temp 6\n",
        "ILS Localizer 21\n",
        "ILS (1) Glideslope 87\n",
        "Relief 3\n",
        "ILS (2) Localizer 23\n",
        "Eng (2) Oil Qty 3\n",
        "Vertical Speed For Flight Phases 4\n",
        "ILS (1) Localizer 18\n",
        "Altitude Radio (B) 4\n",
        "Selected Speed 3\n",
        "ILS Glideslope 11\n",
        "Altitude Radio 3\n",
        "Airspeed True"
       ]
      },
      {
       "output_type": "stream",
       "stream": "stdout",
       "text": [
        " 3\n",
        "Mach 3\n",
        "Track Deviation From Runway 3\n",
        "V2 9\n",
        "Heading True 6\n",
        "Turbulence RMS g 37\n",
        "ILS (2) Glideslope 116\n",
        "DME (1) 7\n",
        "Stabilizer 4\n",
        "Altitude Radio (A) 3\n"
       ]
      }
     ],
     "prompt_number": 18
    },
    {
     "cell_type": "markdown",
     "metadata": {},
     "source": [
      "## Call repair_mask() directly"
     ]
    },
    {
     "cell_type": "code",
     "collapsed": false,
     "input": [
      "repair_mask(array)\n"
     ],
     "language": "python",
     "metadata": {},
     "outputs": [
      {
       "metadata": {},
       "output_type": "pyout",
       "prompt_number": 20,
       "text": [
        "masked_array(data = [-- -- -- ..., -- -- --],\n",
        "             mask = [ True  True  True ...,  True  True  True],\n",
        "       fill_value = 1e+20)\n"
       ]
      }
     ],
     "prompt_number": 20
    },
    {
     "cell_type": "markdown",
     "metadata": {},
     "source": [
      "*Run the line below to generate an HTML version of this notebook.*"
     ]
    },
    {
     "cell_type": "code",
     "collapsed": false,
     "input": [
      "!ipython nbconvert Example_Profile_IPython_Notebook.ipynb"
     ],
     "language": "python",
     "metadata": {},
     "outputs": []
    },
    {
     "cell_type": "code",
     "collapsed": false,
     "input": [
      "def repair_mask_chk(array, frequency=1, repair_duration=REPAIR_DURATION,\n",
      "                raise_duration_exceedance=False, copy=False, extrapolate=False,\n",
      "                zero_if_masked=False, repair_above=None):\n",
      "    '''\n",
      "    This repairs short sections of data ready for use by flight phase algorithms\n",
      "    It is not intended to be used for key point computations, where invalid data\n",
      "    should remain masked.\n",
      "\n",
      "    :param copy: If True, returns modified copy of array, otherwise modifies the array in-place.\n",
      "    :param zero_if_masked: If True, returns a fully masked zero-filled array if all incoming data is masked.\n",
      "    :param repair_duration: If None, any length of masked data will be repaired.\n",
      "    :param raise_duration_exceedance: If False, no warning is raised if there are masked sections longer than repair_duration. They will remain unrepaired.\n",
      "    :param extrapolate: If True, data is extrapolated at the start and end of the array.\n",
      "    :param repair_above: If value provided only masked ranges where first and last unmasked values are this value will be repaired.\n",
      "    :raises ValueError: If the entire array is masked.\n",
      "    '''\n",
      "    if not np.ma.count(array):\n",
      "        if zero_if_masked:\n",
      "            return np_ma_zeros_like(array, mask=True)\n",
      "        else:\n",
      "            raise ValueError(\"Array cannot be repaired as it is entirely masked\")\n",
      "    if copy:\n",
      "        array = array.copy()\n",
      "    if repair_duration:\n",
      "        repair_samples = repair_duration * frequency\n",
      "    else:\n",
      "        repair_samples = None\n",
      "\n",
      "    masked_sections = np.ma.clump_masked(array)\n",
      "    for section in masked_sections:\n",
      "        length = section.stop - section.start\n",
      "        if repair_samples and length > repair_samples:\n",
      "            if raise_duration_exceedance:\n",
      "                raise ValueError(\"Length of masked section '%s' exceeds \"\n",
      "                                 \"repair duration '%s'.\" % (length * frequency,\n",
      "                                                            repair_duration))\n",
      "            else:\n",
      "                continue # Too long to repair\n",
      "        elif section.start == 0:\n",
      "            if extrapolate:\n",
      "                # TODO: Does it make sense to subtract 1 from the section stop??\n",
      "                #array.data[section] = array.data[section.stop - 1]\n",
      "                array.data[section] = array.data[section.stop]\n",
      "                array.mask[section] = False\n",
      "            else:\n",
      "                continue # Can't interpolate if we don't know the first sample\n",
      "\n",
      "        elif section.stop == len(array):\n",
      "            if extrapolate:\n",
      "                array.data[section] = array.data[section.start - 1]\n",
      "                array.mask[section] = False\n",
      "            else:\n",
      "                continue # Can't interpolate if we don't know the last sample\n",
      "        else:\n",
      "            start_value = array.data[section.start - 1]\n",
      "            end_value = array.data[section.stop]\n",
      "            if repair_above is None or (start_value > repair_above and end_value > repair_above):\n",
      "                array.data[section] = np.interp(np.arange(length) + 1, [0, length + 1], [start_value, end_value])\n",
      "                array.mask[section] = False\n",
      "\n",
      "    return array"
     ],
     "language": "python",
     "metadata": {},
     "outputs": []
    },
    {
     "cell_type": "code",
     "collapsed": false,
     "input": [
      "arr= flt.series['Acceleration Longitudinal']\n"
     ],
     "language": "python",
     "metadata": {},
     "outputs": []
    },
    {
     "cell_type": "code",
     "collapsed": false,
     "input": [],
     "language": "python",
     "metadata": {},
     "outputs": []
    },
    {
     "cell_type": "code",
     "collapsed": false,
     "input": [],
     "language": "python",
     "metadata": {},
     "outputs": []
    }
   ],
   "metadata": {}
  }
 ]
}